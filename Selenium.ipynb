{
 "cells": [
  {
   "cell_type": "code",
   "execution_count": 16,
   "id": "740fbe4e",
   "metadata": {},
   "outputs": [],
   "source": [
    "import time\n",
    "\n",
    "from selenium import webdriver\n",
    "import pandas as pd\n",
    "from bs4 import BeautifulSoup\n",
    "import requests\n",
    "from IPython.display import display, HTML\n",
    "from IPython.display import Image\n",
    "from urllib.parse import urljoin\n",
    "\n",
    "driver = webdriver.Chrome()"
   ]
  },
  {
   "cell_type": "code",
   "execution_count": 49,
   "id": "e027e3c7",
   "metadata": {},
   "outputs": [],
   "source": [
    "driver.quit()"
   ]
  },
  {
   "cell_type": "code",
   "execution_count": 2,
   "id": "02f5fe44",
   "metadata": {},
   "outputs": [],
   "source": [
    "df = pd.read_csv('final_corpus.csv')"
   ]
  },
  {
   "cell_type": "code",
   "execution_count": 36,
   "id": "57a14a11",
   "metadata": {},
   "outputs": [],
   "source": [
    "url = df[df['Outlet']=='WaPo']['Article'].values[2]"
   ]
  },
  {
   "cell_type": "code",
   "execution_count": 50,
   "id": "0bbf4abc",
   "metadata": {},
   "outputs": [],
   "source": [
    "driver = webdriver.Chrome()\n",
    "\n",
    "# Open the webpage using the browser\n",
    "driver.get(url)from urllib.parse import urljoin\n",
    "\n",
    "\n",
    "SCROLL_PAUSE_TIME = 0.05\n",
    "\n",
    "# Get scroll height\n",
    "last_height = driver.execute_script(\"return document.body.scrollHeight\")\n",
    "\n",
    "scroll_dist = 0\n",
    "while True:\n",
    "    scroll_dist += 100\n",
    "    # Scroll down to bottom\n",
    "    driver.execute_script(f\"window.scrollTo(0, {scroll_dist});\")\n",
    "\n",
    "    # Wait to load page\n",
    "    time.sleep(SCROLL_PAUSE_TIME)\n",
    "\n",
    "    # Calculate new scroll height and compare with last scroll height\n",
    "    new_height = driver.execute_script(\"return document.body.scrollHeight\")\n",
    "    \n",
    "    if scroll_dist < new_height:\n",
    "        continue\n",
    "    \n",
    "    if new_height == last_height:\n",
    "        break\n",
    "    last_height = new_height\n",
    "\n",
    "# Wait for the page to fully load (you might need to adjust the time)\n",
    "driver.implicitly_wait(10)  # Wait for up to 10 seconds\n",
    "\n",
    "# Get the page source after JavaScript execution\n",
    "page_source = driver.page_source\n",
    "\n",
    "# Close the browser\n",
    "#driver.quit()\n",
    "\n"
   ]
  },
  {
   "cell_type": "code",
   "execution_count": 42,
   "id": "162c8504",
   "metadata": {},
   "outputs": [],
   "source": [
    "page_source = driver.page_source"
   ]
  },
  {
   "cell_type": "code",
   "execution_count": 51,
   "id": "0a274edd",
   "metadata": {},
   "outputs": [],
   "source": [
    "# Parse the dynamically loaded HTML content using BeautifulSoup\n",
    "soup = BeautifulSoup(page_source, \"html.parser\")"
   ]
  },
  {
   "cell_type": "code",
   "execution_count": 52,
   "id": "90b3bcf7",
   "metadata": {},
   "outputs": [
    {
     "data": {
      "text/plain": [
       "<html class=\"js no-mobile desktop no-ie chrome chrome115 graphics-section 2020-section politics-section trump-coronavirus-statements-section gradient rgba opacity textshadow multiplebgs boxshadow borderimage borderradius cssreflections csstransforms csstransitions no-touch no-retina fontface domloaded w-945 gt-240 gt-320 gt-480 gt-640 gt-768 gt-800 lt-1024 lt-1280 lt-1440 lt-1680 lt-1920 portrait no-landscape\" id=\"index-page\" lang=\"en\"><!--<![endif]--><head> <meta charset=\"utf-8\"/> <meta content=\"width=device-width,initial-scale=1,user-scalable=yes,minimum-scale=1,maximum-scale=1\" name=\"viewport\"/> <title>Trump’s quotes on covid-19 show how his response has changed over time - Washington Post</title> <meta content=\"These quotes show how Trump’s response to the coronavirus has changed over time\" name=\"twitter:title\"/> <meta content=\"These quotes show how Trump’s response to the coronavirus has changed over time\" property=\"og:title\"/> <meta content=\"How the president’s attitude toward covid-19 has shifted\" name=\"description\"/> <meta content=\"How the president’s attitude toward covid-19 has shifted\" property=\"og:description\"/> <meta content=\"How the president’s attitude toward covid-19 has shifted\" name=\"twitter:description\"/> <meta content=\"trump coronavirus statements,trump pivot coronavirus,timeline of trump's statements on coronavirus\" name=\"keywords\"/> <link href=\"https://www.washingtonpost.com/graphics/2020/politics/trump-coronavirus-statements/\" rel=\"canonical\"/> <meta content=\"https://www.washingtonpost.com/graphics/2020/politics/trump-coronavirus-statements/\" property=\"og:url\"/> <meta content=\"https://www.washingtonpost.com/graphics/2020/politics/trump-coronavirus-statements/\" name=\"twitter:url\"/> <link href=\"https://wapo.st/trump-virus-quotes\" rel=\"shorturl\"/> <meta content=\"https://www.washingtonpost.com/resizer/uyRzY9-ClQhxciMQkTCYW9wm0z0=/1200x630/filters:focal(759x506:1541x1026):quality(100)/arc-anglerfish-washpost-prod-washpost/public/P65DP4RVZNAFPIAWSUALBCTY4U.jpg\" property=\"og:image\"/> <meta content=\"https://www.washingtonpost.com/resizer/uyRzY9-ClQhxciMQkTCYW9wm0z0=/1200x630/filters:focal(759x506:1541x1026):quality(100)/arc-anglerfish-washpost-prod-washpost/public/P65DP4RVZNAFPIAWSUALBCTY4U.jpg\" name=\"twitter:image\"/> <meta content=\"article\" property=\"og:type\"/> <meta content=\"@postgraphics\" name=\"twitter:site\"/> <meta content=\"https://www.facebook.com/washingtonpost\" property=\"article:publisher\"/> <meta content=\"https://www.facebook.com/washpostvisuals\" property=\"article:author\"/> <meta content=\"summary_large_image\" name=\"twitter:card\"/> <meta content=\"41245586762\" property=\"fb:app_id\"/> <meta content=\"Washington Post\" property=\"og:site_name\"/> <meta content=\"1244584375\" property=\"fb:admins\"/> <meta content=\"4403963\" property=\"fb:admins\"/> <meta content=\"2724956\" property=\"fb:admins\"/> <meta content=\"500835072\" property=\"fb:admins\"/> <meta content=\"1513210492\" property=\"fb:admins\"/> <script src=\"https://cdn.krxd.net/userdata/get?pub=415dda7b-13ba-40f3-9a60-eb3ba310f160&amp;technographics=1&amp;callback=Krux.ns.washingtonpost.kxjsonp_userdata\" type=\"text/javascript\"></script><script src=\"https://beacon.krxd.net/optout_check?callback=Krux.ns.washingtonpost.kxjsonp_optOutCheck\" type=\"text/javascript\"></script><script src=\"https://consumer.krxd.net/consent/get/415dda7b-13ba-40f3-9a60-eb3ba310f160?idt=device&amp;dt=kxcookie&amp;callback=Krux.ns.washingtonpost.kxjsonp_consent_get_0\" type=\"text/javascript\"></script><script async=\"\" src=\"https://www.google-analytics.com/analytics.js\" type=\"text/javascript\"></script><script async=\"\" src=\"https://www.googletagmanager.com/gtag/js?id=G-WRCN68Y2LD&amp;l=dataLayer&amp;cx=c\" type=\"text/javascript\"></script><script async=\"\" src=\"https://sb.scorecardresearch.com/beacon.js\"></script><script async=\"\" src=\"https://unpkg.com/web-vitals/dist/web-vitals.iife.js\" type=\"text/javascript\"></script><script async=\"\" src=\"https://ny77jj.washingtonpost.com/get/live/web/_/lrnojf.js\"></script><script async=\"\" src=\"//cdn.krxd.net/ctjs/controltag.js.d58f47095e6041e576ee04944cca45da\"></script><script async=\"\" src=\"https://www.googletagmanager.com/gtm.js?id=GTM-WHNNX8B\"></script><script async=\"\" src=\"https://cdn.krxd.net/controltag?confid=IbWIJ0xh\" type=\"text/javascript\"></script><script type=\"application/ld+json\"> {\n",
       "                \"@context\":\"http://schema.org\",\n",
       "                    \"@type\":\"ReportageNewsArticle\",\n",
       "                    \"mainEntityOfPage\":{\n",
       "                        \"@type\":\"WebPage\",\n",
       "                        \"@id\":\"https://www.washingtonpost.com/graphics/2020/politics/trump-coronavirus-statements/\"\n",
       "                    },\n",
       "                    \"headline\":\"Trump’s quotes on covid-19 show how his response has changed over time\",\n",
       "                    \"description\":\"How the president’s attitude toward covid-19 has shifted\",\n",
       "                    \"image\":[\"https://www.washingtonpost.com/resizer/uyRzY9-ClQhxciMQkTCYW9wm0z0=/1200x630/filters:focal(759x506:1541x1026):quality(100)/arc-anglerfish-washpost-prod-washpost/public/P65DP4RVZNAFPIAWSUALBCTY4U.jpg\"],\n",
       "                    \"datePublished\":\"2020-03-31T15:00:00.000Z\",\n",
       "                    \n",
       "                    \"isAccessibleForFree\":\"False\",\n",
       "                    \"hasPart\":{\n",
       "                        \"@type\":\"WebPageElement\",\n",
       "                        \"isAccessibleForFree\":\"False\",\n",
       "                        \"cssSelector\":\".paywall\"\n",
       "                    },\n",
       "                    \"isPartOf\": {\n",
       "                        \"@type\": [\"CreativeWork\", \"Product\"],\n",
       "                        \"name\" : \"The Washington Post\",\n",
       "                        \"productID\": \"washingtonpost.com:basic\"\n",
       "                    },\n",
       "                    \"publisher\":{\n",
       "                        \"@type\":\"NewsMediaOrganization\",\n",
       "                        \"name\":\"The Washington Post\",\n",
       "                        \"ethicsPolicy\":\"https://www.washingtonpost.com/policies-and-standards/\",\n",
       "                        \"masthead\":\"https://www.washingtonpost.com/policies-and-standards/masthead/\",\n",
       "                        \"missionCoveragePrioritiesPolicy\":\"https://www.washingtonpost.com/policies-and-standards/\",\n",
       "                        \"diversityPolicy\":\"https://www.washingtonpost.com/policies-and-standards/\",\n",
       "                        \"correctionsPolicy\":\"https://www.washingtonpost.com/policies-and-standards/\",\n",
       "                        \"verificationFactCheckingPolicy\":\"https://www.washingtonpost.com/policies-and-standards/\",\n",
       "                        \"unnamedSourcesPolicy\":\"https://www.washingtonpost.com/policies-and-standards/\",\n",
       "                        \"actionableFeedbackPolicy\":\"https://www.washingtonpost.com/policies-and-standards/\",\n",
       "                        \"foundingDate\":\"1877-12-06\",\n",
       "                        \"ownershipFundingGrants\":\"https://www.washingtonpost.com/policies-and-standards/\",\n",
       "                        \"diversityStaffingReport\":\"http://asne.org/newsroom_diversitysurvey\",\n",
       "                        \"refLocalNationalRequirements\":null,\n",
       "                        \"logo\":{\n",
       "                            \"@type\":\"ImageObject\",\n",
       "                            \"url\":\"https://www.washingtonpost.com/pb/resources/img/thewashingtonpost-black-400x60.png\"\n",
       "                        }\n",
       "                    }\n",
       "            } </script> <script charset=\"utf-8\" type=\"text/javascript\"> var pubSection = \"politics\" || \"politics\";\n",
       "            var pubSubSection = \"politics - the-fix\" || \"politics\" || \"politics - the-fix\";\n",
       "            var pubCommercialNode = \"politics/the-fix\" || (\"politics - the-fix\" ? \"politics/politics - the-fix\" : \"politics\") || \"politics/the-fix\"\n",
       "            var wp_content_type = 'interactive graphics';\n",
       "            var thisNode = pubSubSection !== pubSection ? pubSection + '/' + pubSubSection : pubSection,\n",
       "                navNode = thisNode,\n",
       "                commercialNode = pubCommercialNode,\n",
       "                wp_commercial_node = pubCommercialNode,\n",
       "                wp_channel = thisNode,\n",
       "                wp_section = wp_channel,\n",
       "                wp_proj_directory  = document.location.pathname.replace('/graphics', ''),\n",
       "                wp_page_name = wp_section + ':' + wp_content_type + ':' + wp_proj_directory,\n",
       "                wp_author = \",shelly tan,harry stevens\" || 'harry stevens; shelly tan',\n",
       "                wp_blogname = 'the-fix',\n",
       "                wp_track_scrolling = true;\n",
       "            if (pubSubSection !== pubSection) {\n",
       "                var wp_subsection = pubSection + ' - ' + pubSubSection;\n",
       "                var wp_hierarchy = pubSection + '|' + pubSubSection;\n",
       "            }\n",
       "            var wp_content_category = 'wp - ' + thisNode;\n",
       "            if (window.wp_proj_directory) {\n",
       "              var projdir = window.wp_proj_directory.split(/[^\\w]/g);\n",
       "              var array1 = [];\n",
       "              for(var i =0; i < projdir.length; i++) {\n",
       "                  array1.push(projdir[i].slice(0,4));\n",
       "              }\n",
       "              var finalString = array1.join('');\n",
       "              if(wp_meta_data == undefined){\n",
       "                var wp_meta_data = {};\n",
       "              }\n",
       "              wp_meta_data.page_id = finalString\n",
       "              wp_meta_data.contentType = 'graphics'\n",
       "            }\n",
       "            TWP = window.TWP || {};TWP.Data = {};TWP.base = '//www.washingtonpost.com';eidosBase = TWP.base;TWP.SocialConfig;\n",
       "\n",
       "            var wp_meta_data = wp_meta_data || {};\n",
       "            wp_meta_data.tags_for_paywall = ''\n",
       "\n",
       "\n",
       "          window.pageData = {\n",
       "            pageName: wp_proj_directory,\n",
       "            section: pubSection,\n",
       "            subsection: pubSubSection,\n",
       "            contentType: \"enhanced-template\",\n",
       "            contentSource: \"the washington post\",\n",
       "            authorId: \";tans3;stevensh\",\n",
       "            authorName: \";shelly tan;harry stevens\" || 'harry stevens; shelly tan',\n",
       "            authorType: \";Graphics reporter;Graphics reporter\",\n",
       "            newsroomDesk: \";graphics;graphics\",\n",
       "            newsroomSubdesk: \";graphics;graphics\",// contentType: tracking.content_type || \"\",\n",
       "            cmsName: \"ellipsis\",\n",
       "            cmsId: \"UFKVAIBJQJG7REU7UHS2OCX57Y\",\n",
       "            arcId: \"UFKVAIBJQJG7REU7UHS2OCX57Y\",\n",
       "            contentTags: \"partner-exclude;magnet-coronavirus\" || \"graphic;\",\n",
       "            publishDate:\"2020-03-31T15:00:00.000Z\",\n",
       "            pageViewType: \"load\",\n",
       "            platformType: \"custom\",\n",
       "            language: \"english\",\n",
       "            commercialNode: pubCommercialNode,\n",
       "            auxiliaries: \"uf8;0KS;238;r48;RN1;r6u;7ae;1nw;5l3;7aq;cmd;hlt;99w;zck;hna;XHB;jcu;WC9;7rl;qad;10t;dus;13v;wmp;8f3;kfx;683;xdn;2mt;f79;11S;muj;t46;zhn;UVI;wym;G0E;qt4;HGV;WKH;ngs;eiz;3fv;w4t;dlc;r8j;7eb;5tv;r2f;bmc;b9u;6nj;CFL;713;m42;fdv;FTM;lmp;7nc;yug;PKT;geg;8z8;l7l;n0e;iw2;aty;5k4;mq0;IAJ;o4n;emu;BUM;30r;81f;97K;6xh;v99;xzm;0cz;GQP;y6n;4y6;mza;2m0;zwn;9xx;IAM;3uh\",\n",
       "            canonicalUrl: \"https://www.washingtonpost.com/graphics/2020/politics/trump-coronavirus-statements/\",\n",
       "            seoKeywords: \"trump coronavirus statements;trump pivot coronavirus;timeline of trump&#39;s statements on coronavirus\" || \"\",\n",
       "            testGroupHit: \"\",\n",
       "          }\n",
       "\n",
       "          window.pwapiPaywallResponse = window.pwapiPaywallResponse || {}\n",
       "          window.pwapiPaywallResponse.data = window.pwapiPaywallResponse.data || {}\n",
       "          window.pwapiPaywallResponse.data.mtr = window.pwapiPaywallResponse.data.mtr || {} </script> <link href=\"https://www.washingtonpost.com/resources/css/headerfonts.css\" rel=\"stylesheet\"/> <link href=\"https://www.washingtonpost.com/resources/assets/fonts/fontawesome/4.0.3/css/font-awesome.css?_=1cd447\" rel=\"stylesheet\"/> <link href=\"https://www.washingtonpost.com/wp-srv/graphics/css/pretty-comments.css\" rel=\"stylesheet\" type=\"text/css\"/> <link href=\"https://www.washingtonpost.com/wp-stat/graphics/css/mobile-base-1.2.css\" rel=\"stylesheet\"/> <link href=\"css/base.css?c=5bb2f1c2d744a616473a8b543dba4ae8d5d385a7-1586371551\" rel=\"stylesheet\"/> <link href=\"https://www.washingtonpost.com/favicon.ico\" rel=\"shortcut icon\"/> <link href=\"https://www.washingtonpost.com/wp-srv/graphics/templates/mobile/ico/apple-touch-icon-144-precomposed.png\" rel=\"apple-touch-icon-precomposed\" sizes=\"144x144\"/> <link href=\"https://www.washingtonpost.com/wp-srv/graphics/templates/mobile/ico/apple-touch-icon-114-precomposed.png\" rel=\"apple-touch-icon-precomposed\" sizes=\"114x114\"/> <link href=\"https://www.washingtonpost.com/wp-srv/graphics/templates/mobile/ico/apple-touch-icon-72-precomposed.png\" rel=\"apple-touch-icon-precomposed\" sizes=\"72x72\"/> <link href=\"https://www.washingtonpost.com/wp-srv/graphics/templates/mobile/ico/apple-touch-icon-57-precomposed.png\" rel=\"apple-touch-icon-precomposed\"/> <script async=\"\" src=\"https://scripts.webcontentassessor.com/scripts/9d57e7ee386d4862ec551bf24731dadcab8a37c6f6580c8428470f6489c29264?us_privacy=1NYY\" type=\"text/javascript\"></script><script async=\"\" src=\"https:////c.amazon-adsystem.com/aax2/apstag.js?us_privacy=1NYY\" type=\"text/javascript\"></script><script async=\"\" src=\"https:////js-sec.indexww.com/ht/htw-wapo.js?us_privacy=1NYY\" type=\"text/javascript\"></script><script async=\"\" src=\"https:////static.criteo.net/js/ld/publishertag.js?us_privacy=1NYY\" type=\"text/javascript\"></script><script async=\"\" src=\"https://securepubads.g.doubleclick.net/tag/js/gpt.js\" type=\"text/javascript\"></script><script src=\"//www.washingtonpost.com/pb/gr/c/javascript/r0TEMqBRrcpdrp/jqmodal/7a5b554023.js?_=26a28\" type=\"text/javascript\"></script><script src=\"//www.washingtonpost.com/pb/gr/c/javascript/r0TEMqBRrcpdrp/jquery-cookie/4cc3c1bef0.js?_=b8874\" type=\"text/javascript\"></script><script src=\"https://www.washingtonpost.com/subscribe/static/tetro-client/tetro.min.js\" type=\"text/javascript\"></script><script src=\"//www.washingtonpost.com/pb/gr/c/javascript/r0TEMqBRrcpdrp/mobile-detection/be28be8d4b.js?_=8c659\" type=\"text/javascript\"></script><script src=\"https://www.washingtonpost.com/wp-stat/analytics/latest/main.js?token=202210251155EST\" type=\"text/javascript\"></script><link href=\"//www.washingtonpost.com/pb/gr/c/javascript/r0TEMqBRrcpdrp/modal-css/4f0612af05.css?_=eb39d\" rel=\"stylesheet\" type=\"text/css\"/><script src=\"//www.washingtonpost.com/pb/gr/c/javascript/r0TEMqBRrcpdrp/conf-production/b5411285f6.js?_=26a42\" type=\"text/javascript\"></script><script src=\"//www.washingtonpost.com/pb/gr/c/javascript/r0TEMqBRrcpdrp/identity-management-core-proxy/6b62210598.js?_=a7f6d\" type=\"text/javascript\"></script><style media=\"screen\" type=\"text/css\">wp-ad {display: block;}</style><meta content=\"A15LsJSPgMV7w0Kc5TYHyc1UNzggyebBmE3sj4JP9UJSUVJgucSFQRyN470L3hnsTddsFRSgM695VmLGwBiFngwAAACAeyJvcmlnaW4iOiJodHRwczovL2NyaXRlby5uZXQ6NDQzIiwiZmVhdHVyZSI6IlByaXZhY3lTYW5kYm94QWRzQVBJcyIsImV4cGlyeSI6MTY5NTE2Nzk5OSwiaXNTdWJkb21haW4iOnRydWUsImlzVGhpcmRQYXJ0eSI6dHJ1ZX0=\" http-equiv=\"origin-trial\"/><script async=\"\" src=\"https://static.chartbeat.com/js/chartbeat.js\"></script><script async=\"\" src=\"https://sb.scorecardresearch.com/beacon.js\"></script><meta content=\"AwnOWg2dzaxHPelVjqOT/Y02cSxnG2FkjXO7DlX9VZF0eyD0In8IIJ9fbDFZGXvxNvn6HaF51qFHycDGLOkj1AUAAACAeyJvcmlnaW4iOiJodHRwczovL2NyaXRlby5jb206NDQzIiwiZmVhdHVyZSI6IlByaXZhY3lTYW5kYm94QWRzQVBJcyIsImV4cGlyeSI6MTY5NTE2Nzk5OSwiaXNTdWJkb21haW4iOnRydWUsImlzVGhpcmRQYXJ0eSI6dHJ1ZX0=\" http-equiv=\"origin-trial\"/><style>.i6zCYw6cT99A{display: none; visibility: hidden; height: 0; width: 0;}</style><meta content=\"A7CQXglZzTrThjGTBEn1rWTxHOEtkWivwzgea+NjyardrwlieSjVuyG44PkYgIPGs8Q9svD8sF3Yedn0BBBjXAkAAACFeyJvcmlnaW4iOiJodHRwczovL2RvdWJsZWNsaWNrLm5ldDo0NDMiLCJmZWF0dXJlIjoiUHJpdmFjeVNhbmRib3hBZHNBUElzIiwiZXhwaXJ5IjoxNjk1MTY3OTk5LCJpc1N1YmRvbWFpbiI6dHJ1ZSwiaXNUaGlyZFBhcnR5Ijp0cnVlfQ==\" http-equiv=\"origin-trial\"/><meta content=\"A3vKT9yxRPjmXN3DpIiz58f5JykcWHjUo/W7hvmtjgh9jPpQgem9VbADiNovG8NkO6mRmk70Kex8/KUqAYWVWAEAAACLeyJvcmlnaW4iOiJodHRwczovL2dvb2dsZXN5bmRpY2F0aW9uLmNvbTo0NDMiLCJmZWF0dXJlIjoiUHJpdmFjeVNhbmRib3hBZHNBUElzIiwiZXhwaXJ5IjoxNjk1MTY3OTk5LCJpc1N1YmRvbWFpbiI6dHJ1ZSwiaXNUaGlyZFBhcnR5Ijp0cnVlfQ==\" http-equiv=\"origin-trial\"/><meta content=\"A4A26Ymj79UVY7C7JGUS4BG1s7MdcDokAQf/RP0paks+RoTYbXHxceT/5L4iKcsleFCngi75YfNRGW2+SpVv1ggAAACLeyJvcmlnaW4iOiJodHRwczovL2dvb2dsZXRhZ3NlcnZpY2VzLmNvbTo0NDMiLCJmZWF0dXJlIjoiUHJpdmFjeVNhbmRib3hBZHNBUElzIiwiZXhwaXJ5IjoxNjk1MTY3OTk5LCJpc1N1YmRvbWFpbiI6dHJ1ZSwiaXNUaGlyZFBhcnR5Ijp0cnVlfQ==\" http-equiv=\"origin-trial\"/><meta content=\"As0hBNJ8h++fNYlkq8cTye2qDLyom8NddByiVytXGGD0YVE+2CEuTCpqXMDxdhOMILKoaiaYifwEvCRlJ/9GcQ8AAAB8eyJvcmlnaW4iOiJodHRwczovL2RvdWJsZWNsaWNrLm5ldDo0NDMiLCJmZWF0dXJlIjoiV2ViVmlld1hSZXF1ZXN0ZWRXaXRoRGVwcmVjYXRpb24iLCJleHBpcnkiOjE3MTk1MzI3OTksImlzU3ViZG9tYWluIjp0cnVlfQ==\" http-equiv=\"origin-trial\"/><meta content=\"AgRYsXo24ypxC89CJanC+JgEmraCCBebKl8ZmG7Tj5oJNx0cmH0NtNRZs3NB5ubhpbX/bIt7l2zJOSyO64NGmwMAAACCeyJvcmlnaW4iOiJodHRwczovL2dvb2dsZXN5bmRpY2F0aW9uLmNvbTo0NDMiLCJmZWF0dXJlIjoiV2ViVmlld1hSZXF1ZXN0ZWRXaXRoRGVwcmVjYXRpb24iLCJleHBpcnkiOjE3MTk1MzI3OTksImlzU3ViZG9tYWluIjp0cnVlfQ==\" http-equiv=\"origin-trial\"/><script async=\"\" src=\"https://securepubads.g.doubleclick.net/pagead/managed/js/gpt/m202308030102/pubads_impl.js\"></script><script esp-signal=\"true\" src=\"https://cdn.prod.uidapi.com/uid2SecureSignal.js\"></script><script esp-signal=\"true\" src=\"https://cdn.id5-sync.com/api/1.0/esp.js\"></script><script esp-signal=\"true\" src=\"https://oa.openxcdn.net/esp.js\"></script><style>.FNJLr0heNgoA{width: 1px !important; height: 1px !important; position: absolute !important; left: -10000px !important; top: -1000px !important;}</style><style>.oDxItEkI51DH{display:none !important;}</style></head> <body class=\"\"><div class=\"wp_signin closed softwall\" style=\"height: 100%; width: 100%; position: fixed; left: 0px; top: 60px; z-index: 134217720; opacity: 0.75;\"><span id=\"jqmP0\"></span></div><div class=\"simple-overlay closed softwall jqm-init\" id=\"wp_Signin\" style=\"overflow: hidden; z-index: 134217721;\"><iframe class=\"\" frameborder=\"0\" height=\"100%\" id=\"wallIframe\" scrolling=\"auto\" src=\"https://www.washingtonpost.com/tetro/wall/v1/engine/get-softwall?section=politics/politics%20-%20the-fix&amp;commercial_node=politics/the-fix&amp;ct_tags=subs_1&amp;content_type=&amp;destination=https://www.washingtonpost.com/graphics/2020/politics/trump-coronavirus-statements/&amp;status=final&amp;action=6&amp;data=%5Bobject%20Object%5D&amp;granted=true&amp;grantReason=METER&amp;statusCode=200&amp;caller=classic&amp;refererType=4&amp;acqEntType=mktg_onsite_homepage\" style=\"position:fixed;bottom:0;height:calc(100% - 60px);\" width=\"100%;\"></iframe></div> <script>if (document.location.href.indexOf('template=iframe') !== -1) { document.body.style.display = 'none'; wp_page_name += ' - iframe'; }</script> <a class=\"pgNotVisible pgShow-focus\" href=\"#pg-content\">Skip Navigation</a> <div class=\"pbHeader moat-trackable pb-f-theme-normal pb-3 pb-feature pb-layout-item pb-f-page-header-v2\" data-chain-name=\"no-name\" data-feature-id=\"page/header-v2\" data-feature-name=\"no-name\" id=\"pbHeader\"> <!--[if IE 9]>\n",
       "<div id=\"page\" class=\"ie ie9  \">\n",
       "<![endif]--> <!--[if IE 8]>\n",
       "<div id=\"page\" class=\"ie ie8  \">\n",
       "<![endif]--> <!--[if !IE]><!--> <div class=\"nie\" id=\"page\"> <header class=\"site-header fixed bar-hidden\" id=\"wp-header\"> <nav class=\"top-nav\" id=\"nav-bar\" role=\"navigation\"> <div class=\"main-navigation\"> <div class=\"nav-item\" id=\"main-navigation-left\"> <ul class=\"buttons-inline\"> <li class=\"search-form-item hidden-xs\"> <form action=\"//www.washingtonpost.com/newssearch/\" class=\"search\" id=\"search-form\" method=\"get\"> <input autocomplete=\"off\" class=\"form-control closed\" id=\"search-field\" name=\"query\" placeholder=\"Search\" type=\"text\"/> <i class=\"fa fa-search closed\" id=\"search-btn\"></i> </form> </li> <li class=\"hidden-xs\"> <a class=\"button section-menu-btn sections\" href=\"#\" id=\"section-menu-btn\"> Sections <i class=\"fa fa-bars\"></i> </a> </li> <li class=\"mobile-nav-button visible-xs\"> <a class=\"section-menu-btn\" href=\"#\"> <i class=\"fa fa-bars mobile-hamburger-ic\" id=\"mobile-hamburger-ic\"></i> </a> </li> <li class=\"menu hidden-xs hide\" id=\"section-menu-home\"> <a href=\"https://www.washingtonpost.com/?tid=tst_homelink\">Home</a> </li> </ul> </div> <div class=\"nav-item nav-display-show\" id=\"logo-in-nav\"> <a class=\"wp-logo-link\" href=\"https://www.washingtonpost.com\"> <img alt=\"The Washington Post\" class=\"main-logo initial loading\" data-was-processed=\"true\" src=\"https://www.washingtonpost.com/pb/resources/img/thewashingtonpost-white-2x.png\" width=\"181\"/> <meta content=\"https://www.washingtonpost.com/pb/resources/img/thewashingtonpost-white-2x.png\" itemprop=\"url\"/> <meta content=\"200\" itemprop=\"width\"/> <meta content=\"40\" itemprop=\"height\"/> <div class=\"tagline-wrapper\"> <span class=\"header-tagline\">Democracy Dies in Darkness</span> </div> </a> </div> <div class=\"nav-item\" id=\"main-navigation-right\"> <div class=\"mobile-settings-button\"> <a href=\"#\" id=\"settings-nav-btn\"></a> </div> <div class=\"sign-up-buttons\"> <ul class=\"button-group\" id=\"logged-in-status\"> <li class=\"\" href=\"https://www.washingtonpost.com/graphics/2020/politics/trump-coronavirus-statements/?tid=lk_inline_manual_4&amp;itid=lk_inline_manual_4\" id=\"nav-subscribe\"> <a class=\"button ab-test-sub-btn blue-bkg\" href=\"https://subscribe.washingtonpost.com/acquisition/?nid=top_pb_subscribe\"> <span class=\"ab-lbl\">Try 1 month for $1</span> </a> <hr class=\"separator\"/> </li> <li class=\"hidden hidden-xs\" data-menu=\"user-menu\" data-show-identity=\"true\" id=\"nav-user\"> <a class=\"button\"> <span class=\"username\">Username</span> </a> </li> <li class=\"nav-sign-in\"> <a class=\"button\" href=\"https://www.washingtonpost.com/subscribe/signin/?next_url=https://www.washingtonpost.com/graphics/2020/politics/trump-coronavirus-statements/?nid=top_pb_signin&amp;tid=nav_sign_in\" id=\"sign-in-link\"> <span class=\"username\">Sign In</span> </a> <hr class=\"separator\"/> </li> <div class=\"visible-xs\"> <ul class=\"site-info\"> <li class=\"account-menu\"><a href=\"https://subscribe.washingtonpost.com/profile/#/?destination=https://www.washingtonpost.com/?refresh=true&amp;tid=nav_acctmgnt_menu\">Account and Profile</a></li> <li><a href=\"https://subscribe.washingtonpost.com/newsletters?tid=nav_acctmgnt_menu\">Newsletters &amp; Alerts</a></li> <li><a href=\"https://subscribe.washingtonpost.com/gift?promo=g_d&amp;tid=nav_acctmgnt_menu\">Gift Subscriptions</a></li> <li><a href=\"http://help.washingtonpost.com/ics/support/ticketnewwizard.asp?tid=nav_acctmgnt_menu\">Contact Us</a></li> <li><a href=\"http://help.washingtonpost.com/ics/support/KBSplash.asp?tid=nav_acctmgnt_menu\">Help Desk</a></li> </ul> </div> </ul> </div> </div> </div> </nav> <div class=\"nav-menu hidden\" id=\"user-menu\"> <ul> <li class=\"\" id=\"nav-subscribe\"> <a class=\"button\" href=\"https://subscribe.washingtonpost.com/acquisition/?nid=top_pb_subscribe\"> <span>Subscribe</span> </a> <hr class=\"separator\"/> </li> </ul> <ul class=\"user-info\"></ul> <ul class=\"site-info\"> <li class=\"account-menu\"><a href=\"https://subscribe.washingtonpost.com/profile/#/?destination=https://www.washingtonpost.com/?refresh=true&amp;tid=nav_acctmgnt_menu\">Account and Profile</a></li> <li><a href=\"https://subscribe.washingtonpost.com/newsletters?tid=nav_acctmgnt_menu\">Newsletters &amp; Alerts</a></li> <li><a href=\"https://subscribe.washingtonpost.com/gift?promo=g_d&amp;tid=nav_acctmgnt_menu\">Gift Subscriptions</a></li> <li><a href=\"http://help.washingtonpost.com/ics/support/ticketnewwizard.asp?tid=nav_acctmgnt_menu\">Contact Us</a></li> <li><a href=\"http://help.washingtonpost.com/ics/support/KBSplash.asp?tid=nav_acctmgnt_menu\">Help Desk</a></li> </ul> </div> </header> </div> <!--[if IE 8]>\n",
       "<div id=\"main-sections-nav\" class=\"sections-nav ie8\">\n",
       "<![endif]--> <!--[if IE 9]>\n",
       "<div id=\"main-sections-nav\" class=\"sections-nav ie9\">\n",
       "  <![endif]--> <!--[if !IE]><!--> <div class=\"sections-nav\" id=\"main-sections-nav\"> <div class=\"sections-nav\" id=\"main-sections-nav-inner\"> <div class=\"\" id=\"subscribe-left-nav\"> <a class=\"button subscribe\" href=\"https://subscribe.washingtonpost.com/acquisition/?nid=top_pb_subscribe\"> Subscribe </a> <hr/> </div> <div class=\"visible-xs\" id=\"search-nav-wrapper\"> <form action=\"//www.washingtonpost.com/newssearch/\" id=\"nav-search-mobile\" method=\"get\"> <input autocomplete=\"off\" name=\"query\" placeholder=\"Search\" type=\"text\"/> <button class=\"fa fa-search\" type=\"submit\"></button> <hr class=\"nav-search-mobile-hr\"/> </form> </div> <div id=\"sections-menu-off-canvas\"> <ul class=\"side-nav\"> <li class=\"main-nav has-info\"> <a class=\"main-nav-item\" href=\"https://www.washingtonpost.com/?nid=menu_nav_homepage?nid=menu_nav_homepage\" target=\"_self\">Home Page</a> <div class=\"additional-inline-info\"> <a href=\"https://www.washingtonpost.com\"> U.S. &amp; World </a> <span class=\"sep\">|</span> <a href=\"https://www.washingtonpost.com/regional/\"> Regional </a> </div> </li> <li class=\"main-nav has-sub\"> <a class=\"main-nav-item\" href=\"https://www.washingtonpost.com/politics/?nid=menu_nav_politics?nid=menu_nav_politics\" target=\"_self\">Politics</a> <i class=\"fa fa-angle-right main-nav-angle\"></i> <div class=\"subnav-arrow\"></div> <ul class=\"sub-nav\" style=\"top: -90px;\"> <li class=\"sub-nav-item\"> <a href=\"https://www.washingtonpost.com/news/powerpost/?nid=menu_nav_politics-powerpost?nid=menu_nav_politics-powerpost\">PowerPost</a> </li> <li class=\"sub-nav-item\"> <a href=\"http://www.washingtonpost.com/news/the-fix/?nid=menu_nav_politics-thefix?nid=menu_nav_politics-thefix\">The Fix</a> </li> <li class=\"sub-nav-item\"> <a href=\"http://www.washingtonpost.com/politics/white-house/?nid=menu_nav_politics-whitehouse?nid=menu_nav_politics-whitehouse\">White House</a> </li> <li class=\"sub-nav-item\"> <a href=\"http://www.washingtonpost.com/politics/courts-law/?nid=menu_nav_politics-courtsandlaw?nid=menu_nav_politics-courtsandlaw\">Courts and Law</a> </li> <li class=\"sub-nav-item\"> <a href=\"http://www.washingtonpost.com/politics/polling/?nid=menu_nav_politics-polling?nid=menu_nav_politics-polling\">Polling</a> </li> <li class=\"sub-nav-item\"> <a href=\"http://www.washingtonpost.com/news/monkey-cage/?nid=menu_nav_politics-monkeycage?nid=menu_nav_politics-monkeycage\">Monkey Cage</a> </li> <li class=\"sub-nav-item\"> <a href=\"http://www.washingtonpost.com/news/fact-checker/?nid=menu_nav_politics-factchecker?nid=menu_nav_politics-factchecker\">Fact Checker</a> </li> <li class=\"sub-nav-item\"> <a href=\"http://www.washingtonpost.com/news/post-politics/?nid=menu_nav_politics-postpoliticsblog?nid=menu_nav_politics-postpoliticsblog\">Post Politics Blog</a> </li> </ul> </li> <li class=\"main-nav has-sub\"> <a class=\"main-nav-item\" href=\"https://www.washingtonpost.com/opinions/?nid=menu_nav_opinions?nid=menu_nav_opinions\" target=\"_self\">Opinions</a> <i class=\"fa fa-angle-right main-nav-angle\"></i> <div class=\"subnav-arrow\"></div> <ul class=\"sub-nav\" style=\"top: -130px;\"> <li class=\"sub-nav-item\"> <a href=\"http://www.washingtonpost.com/opinions/the-posts-view/?nid=menu_nav_opinions-thepost'sview?nid=menu_nav_opinions-thepost'sview\">The Post's View</a> </li> <li class=\"sub-nav-item\"> <a href=\"https://www.washingtonpost.com/people/tom-toles?nid=menu_nav_opinions-tolescartoons?nid=menu_nav_opinions-tolescartoons\">Toles Cartoons</a> </li> <li class=\"sub-nav-item\"> <a href=\"https://www.washingtonpost.com/people/ann-telnaes?nid=menu_nav_opinions-telnaesanimations?nid=menu_nav_opinions-telnaesanimations\">Telnaes Animations</a> </li> <li class=\"sub-nav-item\"> <a href=\"https://www.washingtonpost.com/opinions/local-opinions/?nid=menu_nav_opinions-localopinions?nid=menu_nav_opinions-localopinions\">Local Opinions</a> </li> <li class=\"sub-nav-item\"> <a href=\"https://www.washingtonpost.com/global-opinions/?nid=menu_nav_opinions-globalopinions?nid=menu_nav_opinions-globalopinions\">Global Opinions</a> </li> <li class=\"sub-nav-item\"> <a href=\"http://www.washingtonpost.com/opinions/letters-to-the-editor/?nid=menu_nav_opinions-letterstotheeditor?nid=menu_nav_opinions-letterstotheeditor\">Letters to the Editor</a> </li> <li class=\"sub-nav-item\"> <a href=\"http://www.washingtonpost.com/news/act-four/?nid=menu_nav_opinions-actfour?nid=menu_nav_opinions-actfour\">Act Four</a> </li> <li class=\"sub-nav-item\"> <a href=\"http://www.washingtonpost.com/blogs/all-opinions-are-local/?nid=menu_nav_opinions-allopinionsarelocal?nid=menu_nav_opinions-allopinionsarelocal\">All Opinions Are Local</a> </li> <li class=\"sub-nav-item\"> <a href=\"http://www.washingtonpost.com/blogs/compost/?nid=menu_nav_opinions-compost?nid=menu_nav_opinions-compost\">Compost</a> </li> <li class=\"sub-nav-item\"> <a href=\"http://www.washingtonpost.com/blogs/erik-wemple/?nid=menu_nav_opinions-erikwemple?nid=menu_nav_opinions-erikwemple\">Erik Wemple</a> </li> <li class=\"sub-nav-item\"> <a href=\"http://www.washingtonpost.com/blogs/plum-line/?nid=menu_nav_opinions-theplumline?nid=menu_nav_opinions-theplumline\">The Plum Line</a> </li> <li class=\"sub-nav-item\"> <a href=\"https://www.washingtonpost.com/blogs/post-partisan/?nid=menu_nav_opinions-postpartisan?nid=menu_nav_opinions-postpartisan\">PostPartisan</a> </li> <li class=\"sub-nav-item\"> <a href=\"http://www.washingtonpost.com/news/rampage/?nid=menu_nav_opinions-rampage?nid=menu_nav_opinions-rampage\">Rampage</a> </li> <li class=\"sub-nav-item\"> <a href=\"https://www.washingtonpost.com/blogs/right-turn/?nid=menu_nav_opinions-rightturn?nid=menu_nav_opinions-rightturn\">Right Turn</a> </li> <li class=\"sub-nav-item\"> <a href=\"http://www.washingtonpost.com/news/the-watch/?nid=menu_nav_opinions-thewatch?nid=menu_nav_opinions-thewatch\">The Watch</a> </li> <li class=\"sub-nav-item\"> <a href=\"http://www.washingtonpost.com/news/democracy-post/?nid=menu_nav_opinions-democracypost?nid=menu_nav_opinions-democracypost\">DemocracyPost</a> </li> <li class=\"sub-nav-item\"> <a href=\"http://www.washingtonpost.com/news/theworldpost/?nid=menu_nav_opinions-theworldpost?nid=menu_nav_opinions-theworldpost\">The WorldPost</a> </li> </ul> </li> <li class=\"main-nav has-sub\"> <a class=\"main-nav-item\" href=\"https://www.washingtonpost.com/sports/?nid=menu_nav_sports?nid=menu_nav_sports\" target=\"_self\">Sports</a> <i class=\"fa fa-angle-right main-nav-angle\"></i> <div class=\"subnav-arrow\"></div> <ul class=\"sub-nav\" style=\"top: -170px;\"> <li class=\"sub-nav-item\"> <a href=\"https://www.washingtonpost.com/sports/capitals/?nid=menu_nav_sports-capitals?nid=menu_nav_sports-capitals\">Capitals</a> </li> <li class=\"sub-nav-item\"> <a href=\"http://www.washingtonpost.com/sports/redskins/?nid=menu_nav_sports-redskins?nid=menu_nav_sports-redskins\">Redskins</a> </li> <li class=\"sub-nav-item\"> <a href=\"http://www.washingtonpost.com/sports/nfl/?nid=menu_nav_sports-nfl?nid=menu_nav_sports-nfl\">NFL</a> </li> <li class=\"sub-nav-item\"> <a href=\"http://www.washingtonpost.com/sports/mlb/?nid=menu_nav_sports-mlb?nid=menu_nav_sports-mlb\">MLB</a> </li> <li class=\"sub-nav-item\"> <a href=\"http://www.washingtonpost.com/sports/nba/?nid=menu_nav_sports-nba?nid=menu_nav_sports-nba\">NBA</a> </li> <li class=\"sub-nav-item\"> <a href=\"http://www.washingtonpost.com/allmetsports/?nid=menu_nav_sports-highschoolsports?nid=menu_nav_sports-highschoolsports\">High School Sports</a> </li> <li class=\"sub-nav-item\"> <a href=\"https://www.washingtonpost.com/sports/soccer/?nid=menu_nav_sports-soccer?nid=menu_nav_sports-soccer\">Soccer</a> </li> <li class=\"sub-nav-item\"> <a href=\"https://www.washingtonpost.com/sports/olympics/?nid=menu_nav_sports-olympics?nid=menu_nav_sports-olympics\">Olympics</a> </li> <li class=\"sub-nav-item\"> <a href=\"http://www.washingtonpost.com/sports/boxing-mma/?nid=menu_nav_sports-boxing/mma?nid=menu_nav_sports-boxing/mma\">Boxing/MMA</a> </li> <li class=\"sub-nav-item\"> <a href=\"http://www.washingtonpost.com/sports/colleges/?nid=menu_nav_sports-collegesports?nid=menu_nav_sports-collegesports\">College Sports</a> </li> <li class=\"sub-nav-item\"> <a href=\"http://www.washingtonpost.com/sports/colleges/basketball/?nid=menu_nav_sports-collegebasketball?nid=menu_nav_sports-collegebasketball\">College Basketball</a> </li> <li class=\"sub-nav-item\"> <a href=\"http://www.washingtonpost.com/sports/colleges/football/?nid=menu_nav_sports-collegefootball?nid=menu_nav_sports-collegefootball\">College Football</a> </li> <li class=\"sub-nav-item\"> <a href=\"http://www.washingtonpost.com/news/dc-sports-bog/?nid=menu_nav_sports-d.c.sportsbog?nid=menu_nav_sports-d.c.sportsbog\">D.C. Sports Bog</a> </li> <li class=\"sub-nav-item\"> <a href=\"http://www.washingtonpost.com/news/early-lead/?nid=menu_nav_sports-earlylead?nid=menu_nav_sports-earlylead\">Early Lead</a> </li> <li class=\"sub-nav-item\"> <a href=\"http://www.washingtonpost.com/news/fancy-stats/?nid=menu_nav_sports-fancystats?nid=menu_nav_sports-fancystats\">Fancy Stats</a> </li> <li class=\"sub-nav-item\"> <a href=\"http://www.washingtonpost.com/sports/golf/?nid=menu_nav_sports-golf?nid=menu_nav_sports-golf\">Golf</a> </li> <li class=\"sub-nav-item\"> <a href=\"http://www.washingtonpost.com/sports/tennis/?nid=menu_nav_sports-tennis?nid=menu_nav_sports-tennis\">Tennis</a> </li> <li class=\"sub-nav-item\"> <a href=\"http://www.washingtonpost.com/sports/fantasy-sports/?nid=menu_nav_sports-fantasysports?nid=menu_nav_sports-fantasysports\">Fantasy Sports</a> </li> </ul> </li> <li class=\"main-nav has-sub\"> <a class=\"main-nav-item\" href=\"https://www.washingtonpost.com/local/?nid=menu_nav_local?nid=menu_nav_local\" target=\"_self\">Local</a> <i class=\"fa fa-angle-right main-nav-angle\"></i> <div class=\"subnav-arrow\"></div> <ul class=\"sub-nav\" style=\"top: -150px;\"> <li class=\"sub-nav-item\"> <a href=\"http://www.washingtonpost.com/local/dc/?nid=menu_nav_local-d.c.?nid=menu_nav_local-d.c.\">D.C.</a> </li> <li class=\"sub-nav-item\"> <a href=\"http://www.washingtonpost.com/local/maryland/?nid=menu_nav_local-maryland?nid=menu_nav_local-maryland\">Maryland</a> </li> <li class=\"sub-nav-item\"> <a href=\"http://www.washingtonpost.com/local/virginia/?nid=menu_nav_local-virginia?nid=menu_nav_local-virginia\">Virginia</a> </li> <li class=\"sub-nav-item\"> <a href=\"http://www.washingtonpost.com/local/public-safety/?nid=menu_nav_local-publicsafety?nid=menu_nav_local-publicsafety\">Public Safety</a> </li> <li class=\"sub-nav-item\"> <a href=\"http://www.washingtonpost.com/local/education/?nid=menu_nav_local-education?nid=menu_nav_local-education\">Education</a> </li> <li class=\"sub-nav-item\"> <a href=\"http://www.washingtonpost.com/local/traffic-commuting/?nid=menu_nav_local-transportation?nid=menu_nav_local-transportation\">Transportation</a> </li> <li class=\"sub-nav-item\"> <a href=\"http://www.washingtonpost.com/local/weather/?nid=menu_nav_local-weather?nid=menu_nav_local-weather\">Weather</a> </li> <li class=\"sub-nav-item\"> <a href=\"http://www.washingtonpost.com/news/retropolis/?nid=menu_nav_local-retropolis?nid=menu_nav_local-retropolis\">Retropolis</a> </li> </ul> </li> <li class=\"main-nav has-sub\"> <a class=\"main-nav-item\" href=\"https://www.washingtonpost.com/national/?nid=menu_nav_national?nid=menu_nav_national\" target=\"_self\">National</a> <i class=\"fa fa-angle-right main-nav-angle\"></i> <div class=\"subnav-arrow\"></div> <ul class=\"sub-nav\" style=\"top: -130px;\"> <li class=\"sub-nav-item\"> <a href=\"http://www.washingtonpost.com/news/acts-of-faith/?nid=menu_nav_national-actsoffaith?nid=menu_nav_national-actsoffaith\">Acts of Faith</a> </li> <li class=\"sub-nav-item\"> <a href=\"http://www.washingtonpost.com/national/health-science/?nid=menu_nav_national-healthandscience?nid=menu_nav_national-healthandscience\">Health and Science</a> </li> <li class=\"sub-nav-item\"> <a href=\"https://www.washingtonpost.com/world/national-security/?nid=menu_nav_national-nationalsecurity?nid=menu_nav_national-nationalsecurity\">National Security</a> </li> <li class=\"sub-nav-item\"> <a href=\"http://www.washingtonpost.com/national/investigations/?nid=menu_nav_national-investigations?nid=menu_nav_national-investigations\">Investigations</a> </li> <li class=\"sub-nav-item\"> <a href=\"http://www.washingtonpost.com/news/morning-mix/?nid=menu_nav_national-morningmix?nid=menu_nav_national-morningmix\">Morning Mix</a> </li> <li class=\"sub-nav-item\"> <a href=\"http://www.washingtonpost.com/news/post-nation/?nid=menu_nav_national-postnation?nid=menu_nav_national-postnation\">Post Nation</a> </li> <li class=\"sub-nav-item\"> <a href=\"http://www.washingtonpost.com/news/true-crime/?nid=menu_nav_national-truecrime?nid=menu_nav_national-truecrime\">True Crime</a> </li> </ul> </li> <li class=\"main-nav has-sub\"> <a class=\"main-nav-item\" href=\"https://www.washingtonpost.com/world/?nid=menu_nav_world?nid=menu_nav_world\" target=\"_self\">World</a> <i class=\"fa fa-angle-right main-nav-angle\"></i> <div class=\"subnav-arrow\"></div> <ul class=\"sub-nav\" style=\"top: -150px;\"> <li class=\"sub-nav-item\"> <a href=\"http://www.washingtonpost.com/world/africa/?nid=menu_nav_world-africa?nid=menu_nav_world-africa\">Africa</a> </li> <li class=\"sub-nav-item\"> <a href=\"http://www.washingtonpost.com/world/americas/?nid=menu_nav_world-theamericas?nid=menu_nav_world-theamericas\">The Americas</a> </li> <li class=\"sub-nav-item\"> <a href=\"http://www.washingtonpost.com/world/asia-pacific/?nid=menu_nav_world-asiaandpacific?nid=menu_nav_world-asiaandpacific\">Asia and Pacific</a> </li> <li class=\"sub-nav-item\"> <a href=\"http://www.washingtonpost.com/world/europe/?nid=menu_nav_world-europe?nid=menu_nav_world-europe\">Europe</a> </li> <li class=\"sub-nav-item\"> <a href=\"http://www.washingtonpost.com/world/middle-east/?nid=menu_nav_world-middleeast?nid=menu_nav_world-middleeast\">Middle East</a> </li> <li class=\"sub-nav-item\"> <a href=\"http://www.washingtonpost.com/world/national-security/?nid=menu_nav_world-nationalsecurity?nid=menu_nav_world-nationalsecurity\">National Security</a> </li> <li class=\"sub-nav-item\"> <a href=\"http://www.washingtonpost.com/news/worldviews/?nid=menu_nav_world-worldviews?nid=menu_nav_world-worldviews\">WorldViews</a> </li> <li class=\"sub-nav-item\"> <a href=\"http://www.washingtonpost.com/news/checkpoint/?nid=menu_nav_world-checkpoint?nid=menu_nav_world-checkpoint\">Checkpoint</a> </li> </ul> </li> <li class=\"main-nav has-sub\"> <a class=\"main-nav-item\" href=\"https://www.washingtonpost.com/business/?nid=menu_nav_business?nid=menu_nav_business\" target=\"_self\">Business</a> <i class=\"fa fa-angle-right main-nav-angle\"></i> <div class=\"subnav-arrow\"></div> <ul class=\"sub-nav\" style=\"top: -130px;\"> <li class=\"sub-nav-item\"> <a href=\"https://www.washingtonpost.com/news/wonk/?nid=menu_nav_business-wonkblog?nid=menu_nav_business-wonkblog\">Wonkblog</a> </li> <li class=\"sub-nav-item\"> <a href=\"http://www.washingtonpost.com/business/on-leadership/?nid=menu_nav_business-onleadership?nid=menu_nav_business-onleadership\">On Leadership</a> </li> <li class=\"sub-nav-item\"> <a href=\"https://www.washingtonpost.com/business/get-there/?nid=menu_nav_business-personalfinance?nid=menu_nav_business-personalfinance\">Personal Finance</a> </li> <li class=\"sub-nav-item\"> <a class=\"\" href=\"http://www.washingtonpost.com/news/digger/?nid=menu_nav_business-digger?nid=menu_nav_business-digger\">Digger</a> </li> <li class=\"sub-nav-item\"> <a href=\"https://www.washingtonpost.com/news/energy-environment/?nid=menu_nav_business-energyandenvironment?nid=menu_nav_business-energyandenvironment\">Energy and Environment</a> </li> <li class=\"sub-nav-item\"> <a href=\"http://www.washingtonpost.com/business/on-small-business/?nid=menu_nav_business-onsmallbusiness?nid=menu_nav_business-onsmallbusiness\">On Small Business</a> </li> <li class=\"sub-nav-item\"> <a href=\"http://www.washingtonpost.com/business/capital-business/?nid=menu_nav_business-capitalbusiness?nid=menu_nav_business-capitalbusiness\">Capital Business</a> </li> </ul> </li> <li class=\"main-nav has-sub\"> <a class=\"main-nav-item\" href=\"https://www.washingtonpost.com/business/technology/?nid=menu_nav_tech?nid=menu_nav_tech\" target=\"_self\">Tech</a> <i class=\"fa fa-angle-right main-nav-angle\"></i> <div class=\"subnav-arrow\"></div> <ul class=\"sub-nav\" style=\"top: -30px;\"> <li class=\"sub-nav-item\"> <a href=\"http://www.washingtonpost.com/news/innovations/?nid=menu_nav_tech-innovations?nid=menu_nav_tech-innovations\">Innovations</a> </li> <li class=\"sub-nav-item\"> <a href=\"http://www.washingtonpost.com/news/the-switch/?nid=menu_nav_tech-theswitch?nid=menu_nav_tech-theswitch\">The Switch</a> </li> </ul> </li> <li class=\"main-nav has-sub\"> <a class=\"main-nav-item\" href=\"https://www.washingtonpost.com/lifestyle/?nid=menu_nav_lifestyle?nid=menu_nav_lifestyle\" target=\"_self\">Lifestyle</a> <i class=\"fa fa-angle-right main-nav-angle\"></i> <div class=\"subnav-arrow\"></div> <ul class=\"sub-nav\" style=\"top: -310px;\"> <li class=\"sub-nav-item\"> <a href=\"https://www.washingtonpost.com/news/arts-and-entertainment/?nid=menu_nav_lifestyle-artsandentertainment?nid=menu_nav_lifestyle-artsandentertainment\">Arts and Entertainment</a> </li> <li class=\"sub-nav-item\"> <a href=\"http://www.washingtonpost.com/lifestyle/advice/?nid=menu_nav_lifestyle-advice?nid=menu_nav_lifestyle-advice\">Advice</a> </li> <li class=\"sub-nav-item\"> <a href=\"https://www.washingtonpost.com/people/carolyn-hax/?nid=menu_nav_lifestyle-carolynhax?nid=menu_nav_lifestyle-carolynhax\">Carolyn Hax</a> </li> <li class=\"sub-nav-item\"> <a href=\"http://www.washingtonpost.com/food/?nid=menu_nav_lifestyle-food?nid=menu_nav_lifestyle-food\">Food</a> </li> <li class=\"sub-nav-item\"> <a href=\"https://www.washingtonpost.com/news/voraciously/?nid=menu_nav_lifestyle-voraciously?nid=menu_nav_lifestyle-voraciously\">Voraciously</a> </li> <li class=\"sub-nav-item\"> <a href=\"http://www.washingtonpost.com/lifestyle/travel/?nid=menu_nav_lifestyle-travel?nid=menu_nav_lifestyle-travel\">Travel</a> </li> <li class=\"sub-nav-item\"> <a href=\"http://www.washingtonpost.com/lifestyle/wellness/?nid=menu_nav_lifestyle-wellness?nid=menu_nav_lifestyle-wellness\">Wellness</a> </li> <li class=\"sub-nav-item\"> <a href=\"https://www.washingtonpost.com/lifestyle/magazine/?nid=menu_nav_lifestyle-magazine?nid=menu_nav_lifestyle-magazine\">Magazine</a> </li> <li class=\"sub-nav-item\"> <a href=\"http://www.washingtonpost.com/lifestyle/home-garden/?nid=menu_nav_lifestyle-homeandgarden?nid=menu_nav_lifestyle-homeandgarden\">Home and Garden</a> </li> <li class=\"sub-nav-item\"> <a href=\"http://www.washingtonpost.com/news/inspired-life/?nid=menu_nav_lifestyle-inspiredlife?nid=menu_nav_lifestyle-inspiredlife\">Inspired Life</a> </li> <li class=\"sub-nav-item\"> <a href=\"https://www.washingtonpost.com/lifestyle/fashion/?nid=menu_nav_lifestyle-fashion?nid=menu_nav_lifestyle-fashion\">Fashion</a> </li> <li class=\"sub-nav-item\"> <a href=\"http://www.washingtonpost.com/lifestyle/kidspost/?nid=menu_nav_lifestyle-kidspost?nid=menu_nav_lifestyle-kidspost\">KidsPost</a> </li> <li class=\"sub-nav-item\"> <a href=\"http://www.washingtonpost.com/lifestyle/on-parenting/?nid=menu_nav_lifestyle-onparenting?nid=menu_nav_lifestyle-onparenting\">On Parenting</a> </li> <li class=\"sub-nav-item\"> <a href=\"http://www.washingtonpost.com/news/reliable-source/?nid=menu_nav_lifestyle-reliablesource?nid=menu_nav_lifestyle-reliablesource\">Reliable Source</a> </li> <li class=\"sub-nav-item\"> <a href=\"http://www.washingtonpost.com/news/the-intersect/?nid=menu_nav_lifestyle-theintersect?nid=menu_nav_lifestyle-theintersect\">The Intersect</a> </li> <li class=\"sub-nav-item\"> <a href=\"http://www.washingtonpost.com/news/soloish/?nid=menu_nav_lifestyle-solo-ish?nid=menu_nav_lifestyle-solo-ish\">Solo-ish</a> </li> </ul> </li> <li class=\"main-nav has-sub\"> <a class=\"main-nav-item\" href=\"https://www.washingtonpost.com/entertainment/?nid=menu_nav_entertainment?nid=menu_nav_entertainment\" target=\"_self\">Entertainment</a> <i class=\"fa fa-angle-right main-nav-angle\"></i> <div class=\"subnav-arrow\"></div> <ul class=\"sub-nav\" style=\"top: -250px;\"> <li class=\"sub-nav-item\"> <a href=\"http://www.washingtonpost.com/entertainment/books/?nid=menu_nav_entertainment-books?nid=menu_nav_entertainment-books\">Books</a> </li> <li class=\"sub-nav-item\"> <a href=\"http://www.washingtonpost.com/entertainment/comics/?nid=menu_nav_entertainment-comics?nid=menu_nav_entertainment-comics\">Comics</a> </li> <li class=\"sub-nav-item\"> <a href=\"http://www.washingtonpost.com/news/comic-riffs/?nid=menu_nav_entertainment-comicriffs?nid=menu_nav_entertainment-comicriffs\">Comic Riffs</a> </li> <li class=\"sub-nav-item\"> <a href=\"http://www.washingtonpost.com/goingoutguide/?nid=menu_nav_entertainment-goingoutguide?nid=menu_nav_entertainment-goingoutguide\">Going Out Guide</a> </li> <li class=\"sub-nav-item\"> <a href=\"http://www.washingtonpost.com/entertainment/horoscopes/?nid=menu_nav_entertainment-horoscopes?nid=menu_nav_entertainment-horoscopes\">Horoscopes</a> </li> <li class=\"sub-nav-item\"> <a href=\"https://www.washingtonpost.com/goingoutguide/movies/?nid=menu_nav_entertainment-movies?nid=menu_nav_entertainment-movies\">Movies</a> </li> <li class=\"sub-nav-item\"> <a href=\"https://www.washingtonpost.com/goingoutguide/museums/?nid=menu_nav_entertainment-museums?nid=menu_nav_entertainment-museums\">Museums</a> </li> <li class=\"sub-nav-item\"> <a href=\"https://www.washingtonpost.com/goingoutguide/music/?nid=menu_nav_entertainment-music?nid=menu_nav_entertainment-music\">Music</a> </li> <li class=\"sub-nav-item\"> <a href=\"http://games.washingtonpost.com/?nid=menu_nav_entertainment-puzzlesandgames?nid=menu_nav_entertainment-puzzlesandgames\">Puzzles and Games</a> </li> <li class=\"sub-nav-item\"> <a href=\"https://www.washingtonpost.com/goingoutguide/theater-dance/?nid=menu_nav_entertainment-theateranddance?nid=menu_nav_entertainment-theateranddance\">Theater and Dance</a> </li> <li class=\"sub-nav-item\"> <a href=\"http://www.washingtonpost.com/entertainment/tv/?nid=menu_nav_entertainment-tv?nid=menu_nav_entertainment-tv\">TV</a> </li> <li class=\"sub-nav-item\"> <a href=\"https://www.washingtonpost.com/goingoutguide/restaurants/?nid=menu_nav_entertainment-restaurants?nid=menu_nav_entertainment-restaurants\">Restaurants</a> </li> <li class=\"sub-nav-item\"> <a href=\"https://www.washingtonpost.com/goingoutguide/bars-clubs/?nid=menu_nav_entertainment-bars-amp;clubs?nid=menu_nav_entertainment-bars-amp;clubs\">Bars &amp; Clubs</a> </li> </ul> </li> <li class=\"main-nav has-sub\"> <a class=\"main-nav-item\" href=\"https://www.washingtonpost.com/outlook/?nid=menu_nav_outlook?nid=menu_nav_outlook\" target=\"_self\">Outlook</a> <i class=\"fa fa-angle-right main-nav-angle\"></i> <div class=\"subnav-arrow\"></div> <ul class=\"sub-nav\" style=\"top: -70px;\"> <li class=\"sub-nav-item\"> <a href=\"http://www.washingtonpost.com/news/book-party/?nid=menu_nav_outlook-bookparty?nid=menu_nav_outlook-bookparty\">Book Party</a> </li> <li class=\"sub-nav-item\"> <a class=\"\" href=\"https://www.washingtonpost.com/news/made-by-history/?nid=menu_nav_outlook-madebyhistory?nid=menu_nav_outlook-madebyhistory\">Made by History</a> </li> <li class=\"sub-nav-item\"> <a href=\"https://www.washingtonpost.com/outlook/five-myths/?nid=menu_nav_outlook-fivemyths?nid=menu_nav_outlook-fivemyths\">Five Myths</a> </li> <li class=\"sub-nav-item\"> <a href=\"http://www.washingtonpost.com/posteverything/?nid=menu_nav_outlook-posteverything?nid=menu_nav_outlook-posteverything\">PostEverything</a> </li> </ul> </li> <li class=\"main-nav\"> <a class=\"main-nav-item\" href=\"https://www.washingtonpost.com/local/obituaries/?nid=menu_nav_obituaries?nid=menu_nav_obituaries\" target=\"_self\">Obituaries</a> </li> <li class=\"main-nav\"> <a class=\"main-nav-item\" href=\"https://www.washingtonpost.com/crossword-puzzles/?nid=menu_nav_crosswords?nid=menu_nav_crosswords\" target=\"_self\">Crosswords</a> </li> <li class=\"main-nav has-sub\"> <a class=\"main-nav-item\" href=\"http://www.washingtonpost.com/posttv/?nid=menu_nav_video?nid=menu_nav_video\" target=\"_self\">Video</a> <i class=\"fa fa-angle-right main-nav-angle\"></i> <div class=\"subnav-arrow\"></div> <ul class=\"sub-nav\" style=\"top: -250px;\"> <li class=\"sub-nav-item\"> <a href=\"http://www.washingtonpost.com/posttv/c/video/topic/world?nid=menu_nav_video-world?nid=menu_nav_video-world\">World</a> </li> <li class=\"sub-nav-item\"> <a href=\"http://www.washingtonpost.com/posttv/c/video/topic/topnews?nid=menu_nav_video-topnews?nid=menu_nav_video-topnews\">Top News</a> </li> <li class=\"sub-nav-item\"> <a href=\"http://www.washingtonpost.com/posttv/c/video/topic/entertainment?nid=menu_nav_video-entertainment?nid=menu_nav_video-entertainment\">Entertainment</a> </li> <li class=\"sub-nav-item\"> <a href=\"http://www.washingtonpost.com/posttv/c/video/topic/local?nid=menu_nav_video-local?nid=menu_nav_video-local\">Local</a> </li> <li class=\"sub-nav-item\"> <a href=\"http://www.washingtonpost.com/posttv/c/video/topic/popularvideo?nid=menu_nav_video-popularvideo?nid=menu_nav_video-popularvideo\">Popular Video</a> </li> <li class=\"sub-nav-item\"> <a href=\"http://www.washingtonpost.com/posttv/c/video/topic/politics?nid=menu_nav_video-politics?nid=menu_nav_video-politics\">Politics</a> </li> <li class=\"sub-nav-item\"> <a href=\"https://www.washingtonpost.com/video/live/?nid=menu_nav_video-live?nid=menu_nav_video-live\">Live</a> </li> <li class=\"sub-nav-item\"> <a href=\"http://www.washingtonpost.com/posttv/c/video/topic/sports?nid=menu_nav_video-sports?nid=menu_nav_video-sports\">Sports</a> </li> <li class=\"sub-nav-item\"> <a href=\"http://www.washingtonpost.com/posttv/c/video/topic/opinions?nid=menu_nav_video-opinions?nid=menu_nav_video-opinions\">Opinions</a> </li> <li class=\"sub-nav-item\"> <a href=\"http://www.washingtonpost.com/posttv/c/video/topic/national?nid=menu_nav_video-national?nid=menu_nav_video-national\">National</a> </li> <li class=\"sub-nav-item\"> <a href=\"http://www.washingtonpost.com/posttv/c/video/topic/business?nid=menu_nav_video-business?nid=menu_nav_video-business\">Business</a> </li> <li class=\"sub-nav-item\"> <a href=\"http://www.washingtonpost.com/posttv/c/video/topic/tech?nid=menu_nav_video-technology?nid=menu_nav_video-technology\">Technology</a> </li> <li class=\"sub-nav-item\"> <a href=\"http://www.washingtonpost.com/posttv/c/video/topic/style?nid=menu_nav_video-style?nid=menu_nav_video-style\">Style</a> </li> </ul> </li> <li class=\"main-nav\"> <a class=\"main-nav-item\" href=\"https://washingtonpost.com/newsletters/?nid=menu_nav_newsletters-amp;alerts?nid=menu_nav_newsletters-amp;alerts\" target=\"_self\">Newsletters &amp; Alerts</a> </li> <li class=\"main-nav has-sub\"> <a class=\"main-nav-item\" href=\"https://www.washingtonpost.com/podcasts/?nid=menu_nav_podcasts?nid=menu_nav_podcasts\" target=\"_self\">Podcasts</a> <i class=\"fa fa-angle-right main-nav-angle\"></i> <div class=\"subnav-arrow\"></div> <ul class=\"sub-nav\" style=\"top: -170px;\"> <li class=\"sub-nav-item\"> <a href=\"https://www.washingtonpost.com/podcasts/can-he-do-that/?nid=menu_nav_podcasts-canhedothat??nid=menu_nav_podcasts-canhedothat?\">Can He Do That?</a> </li> <li class=\"sub-nav-item\"> <a href=\"https://www.washingtonpost.com/cape-up/?nid=menu_nav_podcasts-capeup?nid=menu_nav_podcasts-capeup\">Cape Up</a> </li> <li class=\"sub-nav-item\"> <a href=\"https://www.washingtonpost.com/podcasts/capital-weather-gang/?nid=menu_nav_podcasts-capitalweathergang?nid=menu_nav_podcasts-capitalweathergang\">Capital Weather Gang</a> </li> <li class=\"sub-nav-item\"> <a href=\"https://www.washingtonpost.com/podcasts/constitutional/?nid=menu_nav_podcasts-constitutional?nid=menu_nav_podcasts-constitutional\">Constitutional</a> </li> <li class=\"sub-nav-item\"> <a href=\"https://www.washingtonpost.com/podcasts/daily-202-big-idea/?nid=menu_nav_podcasts-thedaily202'sbigidea?nid=menu_nav_podcasts-thedaily202'sbigidea\">The Daily 202's Big Idea</a> </li> <li class=\"sub-nav-item\"> <a href=\"https://www.washingtonpost.com/podcasts/letters-from-war/?nid=menu_nav_podcasts-lettersfromwar?nid=menu_nav_podcasts-lettersfromwar\">Letters From War</a> </li> <li class=\"sub-nav-item\"> <a href=\"https://www.washingtonpost.com/graphics/business/presidential-podcast/?nid=menu_nav_podcasts-presidential?nid=menu_nav_podcasts-presidential\">Presidential</a> </li> <li class=\"sub-nav-item\"> <a href=\"https://www.washingtonpost.com/podcasts/retropod/?nid=menu_nav_podcasts-retropod?nid=menu_nav_podcasts-retropod\">Retropod</a> </li> <li class=\"sub-nav-item\"> <a href=\"https://www.washingtonpost.com/news/sports/wp/tag/magnet-podcasts/?nid=menu_nav_podcasts-sports?nid=menu_nav_podcasts-sports\">Sports</a> </li> </ul> </li> <li class=\"main-nav has-sub\"> <a class=\"main-nav-item\" href=\"https://www.washingtonpost.com/photography/?nid=menu_nav_photography?nid=menu_nav_photography\" target=\"_self\">Photography</a> <i class=\"fa fa-angle-right main-nav-angle\"></i> <div class=\"subnav-arrow\"></div> <ul class=\"sub-nav\" style=\"top: -10px;\"> <li class=\"sub-nav-item\"> <a href=\"http://www.washingtonpost.com/news/in-sight/?nid=menu_nav_photography-insight?nid=menu_nav_photography-insight\">In Sight</a> </li> </ul> </li> <li class=\"main-nav\"> <a class=\"main-nav-item\" href=\"https://www.washingtonpost.com/blogs/post-live/?nid=menu_nav_washingtonpostlive?nid=menu_nav_washingtonpostlive\" target=\"_self\">Washington Post Live</a> </li> <li class=\"main-nav\"> <a class=\"main-nav-item\" href=\"http://live.washingtonpost.com/?nid=menu_nav_livechats?nid=menu_nav_livechats\" target=\"_self\">Live Chats</a> </li> <li class=\"main-nav has-sub\"> <a class=\"main-nav-item\" href=\"https://www.washingtonpost.com/realestate/?nid=menu_nav_realestate?nid=menu_nav_realestate\" target=\"_self\">Real Estate</a> <i class=\"fa fa-angle-right main-nav-angle\"></i> <div class=\"subnav-arrow\"></div> <ul class=\"sub-nav\" style=\"top: -50px;\"> <li class=\"sub-nav-item\"> <a href=\"http://www.washingtonpost.com/rentals/?nid=menu_nav_realestate-rentals?nid=menu_nav_realestate-rentals\">Rentals</a> </li> <li class=\"sub-nav-item\"> <a href=\"http://www.washingtonpost.com/news/where-we-live/?nid=menu_nav_realestate-wherewelive?nid=menu_nav_realestate-wherewelive\">Where We Live</a> </li> <li class=\"sub-nav-item\"> <a href=\"http://www.washingtonpost.com/homesales/index.html?nid=menu_nav_realestate-recentlysoldhomes?nid=menu_nav_realestate-recentlysoldhomes\">Recently Sold Homes</a> </li> </ul> </li> <li class=\"main-nav\"> <a class=\"main-nav-item\" href=\"http://www.washingtonpost.com/cars/?nid=menu_nav_cars?nid=menu_nav_cars\" target=\"_self\">Cars</a> </li> <li class=\"main-nav\"> <a class=\"main-nav-item\" href=\"https://jobs.washingtonpost.com/?nid=menu_nav_jobs?nid=menu_nav_jobs\" target=\"_self\">Jobs</a> </li> <li class=\"main-nav\"> <a class=\"main-nav-item\" href=\"http://www.washingtonpost.com/classifieds/?nid=menu_nav_classifieds?nid=menu_nav_classifieds\" target=\"_self\">Classifieds</a> </li> <li class=\"main-nav has-sub\"> <a class=\"main-nav-item\" href=\"https://www.washingtonpost.com?nid=menu_nav_partners?nid=menu_nav_partners\" target=\"_self\">Partners</a> <i class=\"fa fa-angle-right main-nav-angle\"></i> <div class=\"subnav-arrow\"></div> <ul class=\"sub-nav\" style=\"top: -30px;\"> <li class=\"sub-nav-item\"> <a href=\"http://www.washingtonpost.com/express/?nid=menu_nav_partners-express?nid=menu_nav_partners-express\">Express</a> </li> <li class=\"sub-nav-item\"> <a href=\"http://www.parade.com/?nid=menu_nav_partners-parade?nid=menu_nav_partners-parade\">Parade</a> </li> </ul> </li> <li class=\"main-nav\"> <a class=\"main-nav-item\" href=\"https://www.washingtonpost.com/brand-studio/archive/?nid=menu_nav_wpbrandstudio?nid=menu_nav_wpbrandstudio\" target=\"_self\">WP BrandStudio</a> </li> </ul> </div> <ul class=\"side-nav site-attribution\" id=\"site-attribution-off-canvas-menu\"> <li> <a href=\"https://www.washingtonpost.com\">washingtonpost.com</a> </li> <li> <a href=\"https://www.washingtonpost.com\"> 1996-2018 The Washington Post </a> </li> <li> <a href=\"https://www.washingtonpost.com/policies-and-standards/\">Policies and Standards</a> </li> <li> <a href=\"https://www.washingtonpost.com/terms-of-service/2011/11/18/gIQAldiYiN_story.html\">Terms of Service</a> </li> <li> <a href=\"https://www.washingtonpost.com/privacy-policy/2011/11/18/gIQASIiaiN_story.html\">Privacy Policy</a> </li> <li> <a href=\"http://www.washingtonpost.com/news/ask-the-post/discussion-and-submission-guidelines/\">Submissions and Discussion Policy</a> </li> <li> <a href=\"https://www.washingtonpost.com/rss-terms-of-service/2012/01/16/gIQAadFYAQ_story.html\">RSS Terms of Service</a> </li> <li> <a href=\"https://www.washingtonpost.com/how-can-i-opt-out-of-online-advertising-cookies/2011/11/18/gIQABECbiN_story.html\">Ad Choices</a> </li> </ul> <div class=\"bottom-wrapper\"></div> </div> </div> <div id=\"wp-logo-for-print\"> <img alt=\"The Washington Post\" class=\"unprocessed\" data-hi-res-src=\"https://www.washingtonpost.com/pb/resources/img/washingtonpost_black_32.png\"/> </div> <link href=\"https://www.washingtonpost.com/wp-stat/enterprise-raw-code/secondary-nav/secondary-nav.css\" rel=\"stylesheet\"/> <nav aria-label=\"Secondary Navigation Menu\" class=\"flex b bb pad-top-sm ml-auto-ns mr-auto-ns\" data-qa=\"secondary-nav\" data-version=\"1\" id=\"secondary-nav\" style=\"height: 36px;overflow-x:auto;overflow-y:hidden;box-sizing: content-box;\"> <div class=\"ml-auto mr-auto pl-sm pr-sm flex flex-shrink-0 items-center\"><a class=\"font-md bold gray-darkest pb-sm pad-bottom-sm\" href=\"https://www.washingtonpost.com/coronavirus/\" style=\"font-family: franklinitcprobold;\">Coronavirus</a><a class=\"gray-darkest ml-lg pb-sm\" data-qa=\"secondary-link\" href=\"https://www.washingtonpost.com/graphics/2020/national/coronavirus-us-cases-deaths/\" id=\"ledeall\" style=\"border-width: 0px; padding-bottom: 16px;\">U.S. cases and deaths by state</a><a class=\"gray-darkest ml-lg pb-sm\" data-qa=\"secondary-link\" href=\"https://www.washingtonpost.com/graphics/2020/world/mapping-spread-new-coronavirus/\" style=\"border-width: 0px; padding-bottom: 16px;\">World map</a><a class=\"gray-darkest ml-lg pb-sm\" data-qa=\"secondary-link\" href=\"https://www.washingtonpost.com/health/2022/08/11/cdc-coronavirus-recommendations/\" style=\"border-width: 0px; padding-bottom: 16px;\">New CDC guidance</a><a class=\"gray-darkest ml-lg pb-sm\" data-qa=\"secondary-link\" href=\"https://www.washingtonpost.com/health/2022/08/01/covid-contagious-period-isolation/\" style=\"border-width: 0px; padding-bottom: 16px;\">When am I still contagious?</a><a class=\"gray-darkest ml-lg pb-sm\" data-qa=\"secondary-link\" href=\"https://www.washingtonpost.com/health/2022/05/08/study-never-get-covid/\" style=\"border-width: 0px; padding-bottom: 16px;\">The people who never get covid</a></div></nav> <script defer=\"defer\" src=\"https://www.washingtonpost.com/wp-stat/enterprise-raw-code/secondary-nav/coronavirus-nav.js\" type=\"text/javascript\"></script> </div> <div class=\"leaderboard ad--desktop\" id=\"leaderboardad\"> <wp-ad aria-hidden=\"true\" data-google-query-id=\"CLaK_v-m04ADFeMTiAkdSvkKtw\" data-json='{\"targeting\":{\"pos\":\"leaderboard\",\"ctr\":[\"zeus_leaderboard\"],\"wp_ad_refresh\":\"0\",\"wp_refresh\":\"leaderboard_0\",\"id\":\"7325cf61-37da-11ee-bf10-0eaf1256633d\",\"vw\":[\"40\",\"50\",\"60\",\"70\"],\"grm\":[\"40\",\"50\",\"60\"]}}' data-refresh=\"on\" data-size='[[2,1],[728,90],\"fluid\"]' data-slot=\"politics/the-fix\" id=\"slug_leaderboard\" style=\"margin: auto; width: 728px;\"><div id=\"google_ads_iframe_/701/wpni.politics/the-fix_0__container__\" style=\"border: 0pt none;\"><iframe aria-label=\"Advertisement\" data-google-container-id=\"1\" data-integralas-id-9f0b8c7d-f3b2-ba56-fc0f-9de1271760e1=\"\" data-load-complete=\"true\" frameborder=\"0\" height=\"90\" id=\"google_ads_iframe_/701/wpni.politics/the-fix_0\" marginheight=\"0\" marginwidth=\"0\" name=\"google_ads_iframe_/701/wpni.politics/the-fix_0\" role=\"region\" sandbox=\"allow-forms allow-pointer-lock allow-popups allow-popups-to-escape-sandbox allow-same-origin allow-scripts allow-top-navigation-by-user-activation\" scrolling=\"no\" style=\"border: 0px; vertical-align: bottom;\" tabindex=\"0\" title=\"3rd party ad content\" width=\"728\"></iframe></div></wp-ad> </div> <div class=\"leaderboard ad--mobile\" id=\"mobilead\"> <wp-ad aria-hidden=\"true\" data-json='{\"targeting\":{\"pos\":\"mob_lb\",\"ctr\":[\"zeus_mob_lb\"],\"wp_ad_refresh\":\"0\",\"wp_refresh\":\"mob_lb_0\"},\"categoryExclusions\":[]}' data-refresh=\"on\" data-size='[[2,1],[300,50],[320,50],\"fluid\"]' data-slot=\"politics/the-fix\" id=\"slug_mob_lb\" style=\"margin: auto;\"></wp-ad> </div> <article class=\"pg-article\" role=\"main\"> <header class=\"pg-header pg-header--center\" id=\"pg-content\"> <div class=\"pg-display\"> <div class=\"pg-kicker\"> <a href=\"https://www.washingtonpost.com/politics/the-fix\"> The Fix </a> <div class=\"section-label\"> <span class=\"section-label-span\"> <i aria-hidden=\"true\" class=\"fa fa-circle section-label-ic\"></i> Analysis </span> <div class=\"story-label-explainer arrow_box jqm-init\" style=\"z-index: 134217728;\"> <i aria-hidden=\"true\" class=\"fa fa-times label-modal-close\"></i> <p class=\"label-title\"> <b class=\"label\">Analysis</b> <span class=\"label-content\"> Interpretation of the news based on evidence, including data, as well as anticipating how events might unfold based on past events. </span> </p> </div> </div> </div> <div class=\"topper-image\"> <img alt=\"Photo illustration of Trump with speech bubbles\" class=\"initial loading\" data-was-processed=\"true\" src=\"img/topper.jpg\"/> </div> <h1 class=\"pg-h1 balanced-headline\" style=\"visibility: visible;\"> From ‘It’s going to disappear’<br data-owner=\"balance-text\"/>to ‘WE WILL WIN THIS WAR’ </h1> <h2 class=\"pg-intro\"> How the president’s response to the coronavirus has changed since January </h2> </div> <div class=\"pg-byline-social\"> <div class=\"pg-byline\"> <span class=\"pg-byline--author-wrap\"> By <span class=\"pg-byline--author\"><a href=\"https://www.washingtonpost.com/people/harry-stevens/\">Harry Stevens</a><div class=\"author-hover-card author-arrow-up\"><div class=\"content\"><div class=\"author-headshot\"><a href=\"https://www.washingtonpost.com/people/harry-stevens/\"><img src=\"img/200/68d4c334-4d42-4b1d-995a-7c66701f1d77.png\"/></a></div><a class=\"author-name\" href=\"https://www.washingtonpost.com/people/harry-stevens/\">Harry Stevens</a><div class=\"author-bio\">Graphics reporter</div><div class=\"social-links\"><a href=\"mailto:harry.stevens@washpost.com?subject='These quotes show how Trump’s response to the coronavirus has changed over time'\"><span>Email </span><i class=\"fa fa-envelope\"></i></a><a href=\"https://www.washingtonpost.com/people/harry-stevens/\"><span>Bio </span><i class=\"fa fa-external-link-square\"></i></a><a href=\"https://twitter.com/@Harry_Stevens\"> Follow <i class=\"fa fa-twitter\"></i></a></div></div></div></span> and <span class=\"pg-byline--author\"><a href=\"https://www.washingtonpost.com/people/shelly-tan/\">Shelly Tan</a><div class=\"author-hover-card author-arrow-up\"><div class=\"content\"><div class=\"author-headshot\"><a href=\"https://www.washingtonpost.com/people/shelly-tan/\"><img src=\"img/200/0ba351d2-7642-43d5-9dc1-1b040f5d92ff.png\"/></a></div><a class=\"author-name\" href=\"https://www.washingtonpost.com/people/shelly-tan/\">Shelly Tan</a><div class=\"author-bio\">Graphics reporter specializing in pop culture</div><div class=\"social-links\"><a href=\"mailto:shelly.tan@washpost.com?subject='These quotes show how Trump’s response to the coronavirus has changed over time'\"><span>Email </span><i class=\"fa fa-envelope\"></i></a><a href=\"https://www.washingtonpost.com/people/shelly-tan/\"><span>Bio </span><i class=\"fa fa-external-link-square\"></i></a><a href=\"https://twitter.com/tan_shelly\"> Follow <i class=\"fa fa-twitter\"></i></a></div></div></div></span> </span> <span class=\"pg-pubDate\"> <span content=\"2020-03-31T15:00:00.000Z\" itemprop=\"datePublished\"> March 31, 2020 </span> </span> </div> <div class=\"social\"> <a class=\"share-btn\" onclick=\"window.open('https://www.facebook.com/sharer/sharer.php?u=https://www.washingtonpost.com/graphics/2020/politics/trump-coronavirus-statements/','share_facebook','width=658,height=354,scrollbars=no');return false;\"> <i class=\"fa fa-facebook\"></i> </a> <a class=\"share-btn\" onclick=\"window.open('https://twitter.com/share?url=https://wapo.st/trump-virus-quotes%3Ftid=ss_tw&amp;text=' + encodeURIComponent('These quotes show how Trump’s response to the coronavirus has changed over time'),'share_twitter','width=550, height=350, scrollbars=no'); try{wp_pb.StaticMethods.staticPostShare.callPostShare('twitter', this.postShareObject, 'https://twitter.com/share?url=', 'https://www.washingtonpost.com/graphics/2020/politics/trump-coronavirus-statements/', '&amp;text=' + encodeURIComponent('These quotes show how Trump’s response to the coronavirus has changed over time'), 'width=550, height=350, scrollbars=no', shareWindow, 'ss_tw');}catch(err){if(false){console.log(err);}} return false;\"> <i class=\"fa fa-twitter\"></i> </a> <a class=\"share-btn\" href=\"mailto:?subject=These quotes show how Trump’s response to the coronavirus has changed over time from The Washington Post&amp;body=https://www.washingtonpost.com/graphics/2020/politics/trump-coronavirus-statements/\"> <i class=\"fa fa-envelope\"></i> </a> </div> </div> <noscript> <div class=\"noscript-warning\"> Warning: This graphic requires JavaScript. Please enable JavaScript for the best experience. </div> </noscript> </header> <p class=\"pg-body-copy\" id=\"text-TUOYSZTXZ5AUZF2X5ZEOBBEEE4\"> As the coronavirus began to spread across the United States, President Trump repeatedly insisted that it was nothing to worry about. Two months later, the United States became the first country in the world with <a href=\"https://www.washingtonpost.com/world/2020/03/27/coronavirus-latest-news/\" target=\"_blank\">more than 100,000 cases</a>, the economy has ground to a near standstill, and the virus has killed <a href=\"https://www.washingtonpost.com/world/2020/03/29/coronavirus-latest-news/\" target=\"_blank\">more than 1,000 people in New York state</a> alone. </p> <p class=\"pg-body-copy\" id=\"text-CZSNUUW3JFE6XFVKQI7YHDFYAQ\"> As cases increased and stocks tumbled, the president’s attitude toward the threat of covid-19, the disease caused by the novel coronavirus, has evolved from casual dismissal to reluctant acknowledgment to bellicose mobilization. Below, we trace the winding path of the president’s response to the virus, in his own words. </p> <div class=\"photo-illo pg-skinny\"> <div class=\"speech-bubble-wrapper\"> <div class=\"speech-bubble\"> <p>“It’s going to disappear.”</p> </div> <div class=\"note-container\"> <p class=\"note\">News conference, Feb. 27</p> </div> </div> <div class=\"img-wrapper\"> <img alt=\"Photo illustration of Trump with speech bubble saying, 'It’s going to disappear.'\" class=\"initial loading\" data-was-processed=\"true\" src=\"img/photos/section-1.jpg\"/> </div> </div> <div class=\"date-range-wrapper pg-skinny\"> <p class=\"date-range\">January through early March</p> </div> <h3 class=\"pg-body-copy pg-h3\">Dismissing the threat</h3> <p class=\"pg-body-copy\" id=\"text-46FT7HEXRBFNNI42NPMHBMW2NI\"> In the early days of the virus’s spread in the United States, Trump repeatedly emphasized that everything was “under control” and that the virus would just “disappear” in warmer months. Meanwhile, the coronavirus was <a href=\"https://www.straitstimes.com/singapore/health/coronavirus-9-new-cases-confirmed-in-singapore-6-of-these-linked-to-grace-assembly\" target=\"_blank\">steadily spreading in Singapore</a>, where average temperatures are similar to summer in the United States. </p> <div class=\"scroll-container\"> <div class=\"meeple-holder\" id=\"meeple-holder-1\"> <div class=\"show\" id=\"annotation\"><svg height=\"1058\" width=\"945\"><polyline fill=\"none\" points=\"705.75,551.5,704.3437499999999,551.591875,702.9749999999999,551.7175,701.6437500000001,551.876875,700.35,552.07,699.09375,552.296875,697.875,552.5575,696.6937499999999,552.851875,695.5500000000001,553.1800000000001,694.44375,553.541875,693.375,553.9375,692.34375,554.3668749999999,691.3499999999999,554.8299999999999,690.3937500000001,555.3268750000001,689.475,555.8575,688.59375,556.421875,687.75,557.02,686.9437499999999,557.651875,686.1750000000001,558.3175,685.44375,559.016875,684.75,559.75,684.09375,560.516875,683.4749999999999,561.3175,682.89375,562.151875,682.35,563.02,681.84375,563.921875,681.375,564.8575000000001,680.94375,565.826875,680.5500000000001,566.8299999999999,680.19375,567.8668749999999,679.875,568.9375,679.59375,570.041875,679.35,571.1800000000001,679.14375,572.351875,678.9749999999999,573.5575,678.84375,574.796875,678.75,576.07,678.69375,577.376875,678.6750000000001,578.7175000000001,678.6937499999999,580.091875,678.75,581.5,678.75,581.5\" stroke=\"#222\"></polyline><text class=\"t1\" x=\"678.75\" y=\"581.5\">First U.S. case</text><text class=\"t2\" x=\"678.75\" y=\"581.5\">announced in</text><text class=\"t3\" x=\"678.75\" y=\"581.5\">Washington state</text></svg></div> <div class=\"status-tracker\" style=\"left: 619.75px;\"> <div class=\"date-tracker\">Feb. 27</div> <div class=\"status-container\"> <div class=\"status-item confirmed\"> <div class=\"status-label\">Confirmed<br/>cases</div> <div class=\"status-value\">60</div> </div> <div class=\"status-item deaths\"> <div class=\"status-label\">Reported<br/>deaths</div> <div class=\"status-value\">0</div> </div> </div> </div> <canvas height=\"1058\" style=\"width: 945px; height: 1058px;\" width=\"945\"></canvas></div> <div class=\"scroll-steps\" id=\"scroll-steps-1\" style=\"margin-top: -75vh;\"> <div class=\"pg-scroll-step\" data-date=\"2020-01-22T05:00:00.000Z\" id=\"\"> <div class=\"pg-scroll-content\"> <h3 class=\"pg-h3 date\">Jan. 22</h3> <p class=\"pg-bodyCopy pg-skinny\"> “We have it totally under control. It’s one person coming in from China, and we have it under control. It’s going to be just fine.” </p> <p class=\"source\">— <a href=\"https://factba.se/transcript/donald-trump-interview-joe-kernen-cnbc-davos-january-22-2020\" target=\"_blank\">CNBC interview</a></p> <div class=\"card-border\"></div> <p class=\"pg-skinny context\"> <strong>In the news: </strong> The day before, the first U.S. case was announced in Washington state. The WHO says the global risk is high. <a href=\"https://www.washingtonpost.com/health/2020/01/21/coronavirus-us-case/\" target=\"_blank\">Read more <i aria-hidden=\"true\" class=\"fa fa-external-link\"></i></a> </p> </div> </div> <div class=\"pg-scroll-step\" data-date=\"2020-02-10T05:00:00.000Z\" id=\"\"> <div class=\"pg-scroll-content\"> <h3 class=\"pg-h3 date\">Feb. 10</h3> <p class=\"pg-bodyCopy pg-skinny\"> “Looks like by April, you know, in theory, when it gets a little warmer, it miraculously goes away.” </p> <p class=\"source\">— <a href=\"https://factba.se/transcript/donald-trump-speech-kag-rally-manchester-new-hampshire-february-10-2020\" target=\"_blank\">New Hampshire rally</a></p> <div class=\"card-border\"></div> <p class=\"pg-skinny context\"> <strong>In the news: </strong> In Singapore, where average temperatures are similar to summer in the U.S., the number of cases reaches 45. <a href=\"https://www.straitstimes.com/singapore/health/coronavirus-3-new-cases-in-singapore-2-from-grace-assembly-of-god-church-1-from-dbs\" target=\"_blank\">Read more <i aria-hidden=\"true\" class=\"fa fa-external-link\"></i></a> </p> </div> </div> <div class=\"pg-scroll-step\" data-date=\"2020-02-24T05:00:00.000Z\" id=\"\"> <div class=\"pg-scroll-content\"> <h3 class=\"pg-h3 date\">Feb. 24</h3> <p class=\"pg-bodyCopy pg-skinny\"> “The Coronavirus is very much under control in the USA. … Stock Market starting to look very good to me!” </p> <p class=\"source\">— <a href=\"https://twitter.com/realDonaldTrump/status/1232058127740174339\" target=\"_blank\">Twitter</a></p> <div class=\"card-border\"></div> <div class=\"context-container\"> <div class=\"text-container\"> <p class=\"pg-skinny context\"> <strong>In the news: </strong> Global markets fall sharply amid fears that the coronavirus was spreading. <a href=\"https://www.washingtonpost.com/business/2020/02/24/stocks-dow-nasdaq-coronavirus/\" target=\"_blank\">Read more <i aria-hidden=\"true\" class=\"fa fa-external-link\"></i></a> </p> </div> <div class=\"sparkline\"> <img class=\"loading\" data-was-processed=\"true\" src=\"img/viz/feb_24_market-sparkline.png\"/> </div> </div> </div> </div> <div class=\"pg-scroll-step\" data-date=\"2020-02-27T05:00:00.000Z\" id=\"\"> <div class=\"pg-scroll-content\"> <h3 class=\"pg-h3 date\">Feb. 27</h3> <p class=\"pg-bodyCopy pg-skinny\"> “It’s going to disappear. One day, it’s like a miracle, it will disappear.” </p> <p class=\"source\">— <a href=\"https://www.whitehouse.gov/briefings-statements/remarks-president-trump-meeting-african-american-leaders/\" target=\"_blank\">News conference</a></p> <div class=\"card-border\"></div> <p class=\"pg-skinny context\"> <strong>In the news: </strong> Washington, California and Oregon report the start of community transmission. <a href=\"https://www.washingtonpost.com/world/2020/02/28/coronavirus-live-updates/\" target=\"_blank\">Read more <i aria-hidden=\"true\" class=\"fa fa-external-link\"></i></a> </p> </div> </div> </div> </div> <div class=\"leaderboard-wrapper text-center\"> <div class=\"leaderboard ad--desktop\"> <wp-ad aria-hidden=\"true\" data-google-query-id=\"CLKv9oKn04ADFUr0swodmvAGxg\" data-json='{\"targeting\":{\"pos\":\"leaderboard\",\"ctr\":[\"zeus_leaderboard\"],\"wp_ad_refresh\":\"0\",\"wp_refresh\":\"leaderboard_0_0\",\"id\":\"76ba40ca-37da-11ee-950a-0a22d67aec5d\",\"vw\":[\"40\",\"50\",\"60\",\"70\"],\"grm\":[\"40\",\"50\",\"60\"]}}' data-refresh=\"on\" data-size='[[2,1],[728,90],\"fluid\"]' data-slot=\"politics/the-fix\" id=\"slug_leaderboard_0\" style=\"margin: auto; width: 728px;\"><div id=\"google_ads_iframe_/701/wpni.politics/the-fix_1__container__\" style=\"border: 0pt none;\"><iframe aria-label=\"Advertisement\" data-google-container-id=\"2\" data-integralas-id-7fcb0161-f810-d80b-34f3-f85d21f17fd9=\"\" data-load-complete=\"true\" frameborder=\"0\" height=\"90\" id=\"google_ads_iframe_/701/wpni.politics/the-fix_1\" marginheight=\"0\" marginwidth=\"0\" name=\"google_ads_iframe_/701/wpni.politics/the-fix_1\" role=\"region\" sandbox=\"allow-forms allow-pointer-lock allow-popups allow-popups-to-escape-sandbox allow-same-origin allow-scripts allow-top-navigation-by-user-activation\" scrolling=\"no\" style=\"border: 0px; vertical-align: bottom;\" tabindex=\"0\" title=\"3rd party ad content\" width=\"728\"></iframe></div></wp-ad> </div> <div class=\"leaderboard ad--mobile\"> <wp-ad aria-hidden=\"true\" data-json='{\"targeting\":{\"pos\":\"mob_lb_0\",\"ctr\":[\"zeus_mob_lb_0\"],\"wp_ad_refresh\":\"0\",\"wp_refresh\":\"mob_lb_0_0\"},\"categoryExclusions\":[]}' data-refresh=\"on\" data-size='[[2,1],[300,50],[320,50],\"fluid\"]' data-slot=\"politics/the-fix\" id=\"slug_mob_lb_0\" style=\"margin: auto;\"></wp-ad> </div> </div> <div class=\"photo-illo pg-skinny\"> <div class=\"speech-bubble-wrapper\"> <div class=\"speech-bubble\"> <p>“I think the 3.4 percent [fatality rate] is really a false number.”</p> </div> <div class=\"note-container\"> <p class=\"note\">Fox News interview, March 4</p> </div> </div> <div class=\"img-wrapper\"> <img alt=\"Photo illustration of Trump with speech bubble saying, 'I think the 3.4 percent [fatality rate] is really a false number.'\" class=\"loading\" data-was-processed=\"true\" src=\"img/photos/section-2.jpg\"/> </div> </div> <div class=\"date-range-wrapper pg-skinny\"> <p class=\"date-range\">Early to mid-March</p> </div> <h3 class=\"pg-body-copy pg-h3\">Recognizing the spread, downplaying the risk</h3> <p class=\"pg-body-copy\" id=\"text-UOSBD3MTGBGMLEMWZAY3BY4CXA\"> The World Health Organization warned early on that the global risk was high. Multiple states soon started reporting cases of <a href=\"https://www.washingtonpost.com/health/coronavirus-may-have-spread-undetected-for-weeks-in-washington-state/2020/03/01/0f292336-5bcc-11ea-9055-5fa12981bbbf_story.html\" target=\"_blank\">community transmission</a>, suggesting that containment was becoming more and more unlikely. <a href=\"https://www.washingtonpost.com/education/2020/03/03/what-schools-teachers-should-be-doing-now-about-coronavirus-according-experts/\" target=\"_blank\">Schools in Seattle began to close</a> as one of the earliest serious outbreaks started to erupt in Washington state. </p> <p class=\"pg-body-copy\" id=\"text-5FUXKPSJMVBV3FIQARA4RMHXTE\"> As February turned to March, the first deaths were announced and cases continued to climb. Trump began to acknowledge the virus’s spread in the United States but dismissed the potential danger to the public at large. </p> <div class=\"scroll-container\"> <div class=\"meeple-holder\" id=\"meeple-holder-2\"> <div class=\"status-tracker\" style=\"left: 619.75px;\"> <div class=\"date-tracker\">March 10</div> <div class=\"status-container\"> <div class=\"status-item confirmed\"> <div class=\"status-label\">Confirmed<br/>cases</div> <div class=\"status-value\">959</div> </div> <div class=\"status-item deaths\"> <div class=\"status-label\">Reported<br/>deaths</div> <div class=\"status-value\">28</div> </div> </div> </div> <canvas height=\"1058\" style=\"width: 945px; height: 1058px;\" width=\"945\"></canvas></div> <div class=\"scroll-steps\" id=\"scroll-steps-2\" style=\"margin-top: -75vh;\"> <div class=\"pg-scroll-step\" data-date=\"2020-03-04T05:00:00.000Z\" id=\"\"> <div class=\"pg-scroll-content\"> <h3 class=\"pg-h3 date\">March 4</h3> <p class=\"pg-bodyCopy pg-skinny\"> “Some people will have this at a very light level and won’t even go to a doctor or hospital, and they’ll get better. There are many people like that.” </p> <p class=\"source\">— <a href=\"https://www.whitehouse.gov/briefings-statements/remarks-president-trump-vice-president-pence-coronavirus-briefing-airline-ceos/\" target=\"_blank\">Briefing with airline CEOs</a></p> <div class=\"card-border\"></div> <p class=\"pg-skinny context\"> <strong>In the news: </strong> California Gov. Gavin Newsom (D) declares a state of emergency after the state’s first coronavirus-related death. <a href=\"https://www.washingtonpost.com/health/death-toll-grows-as-state-federal-governments-struggle-to-control-coronavirus/2020/03/04/8490242a-5e4d-11ea-b29b-9db42f7803a7_story.html\" target=\"_blank\">Read more <i aria-hidden=\"true\" class=\"fa fa-external-link\"></i></a> </p> </div> </div> <div class=\"pg-scroll-step\" data-date=\"2020-03-09T04:00:00.000Z\" id=\"\"> <div class=\"pg-scroll-content\"> <h3 class=\"pg-h3 date\">March 9</h3> <p class=\"pg-bodyCopy pg-skinny\"> “The Fake News Media and their partner, the Democrat Party, is doing everything within its semi-considerable power ... to inflame the CoronaVirus situation.” </p> <p class=\"source\">— <a href=\"https://twitter.com/realDonaldTrump/status/1236975196642390022\" target=\"_blank\">Twitter</a></p> <div class=\"card-border\"></div> <div class=\"context-container\"> <div class=\"text-container\"> <p class=\"pg-skinny context\"> <strong>In the news: </strong> Stock markets continue to rapidly decline. <a href=\"https://www.washingtonpost.com/business/2020/03/09/markets-economy-coronavirus/\" target=\"_blank\">Read more <i aria-hidden=\"true\" class=\"fa fa-external-link\"></i></a> </p> </div> <div class=\"sparkline\"> <img class=\"loading\" data-was-processed=\"true\" src=\"img/viz/mar_9_market-sparkline.png\"/> </div> </div> </div> </div> <div class=\"pg-scroll-step\" data-date=\"2020-03-10T04:00:00.000Z\" id=\"\"> <div class=\"pg-scroll-content\"> <h3 class=\"pg-h3 date\">March 10</h3> <p class=\"pg-bodyCopy pg-skinny\"> “We’re prepared, and we’re doing a great job with it. And it will go away. Just stay calm. It will go away.” </p> <p class=\"source\">— <a href=\"https://www.whitehouse.gov/briefings-statements/remarks-president-trump-meeting-republican-senators-2/?utm_source=link&amp;utm_medium=header\" target=\"_blank\">Meeting with Republican senators</a></p> <div class=\"card-border\"></div> <p class=\"pg-skinny context\"> <strong>In the news: </strong> The next day, the WHO declares a pandemic of covid-19, the disease caused by the novel coronavirus. <a href=\"https://www.washingtonpost.com/health/2020/03/11/who-declares-pandemic-coronavirus-disease-covid-19/\" target=\"_blank\">Read more <i aria-hidden=\"true\" class=\"fa fa-external-link\"></i></a> </p> </div> </div> </div> </div> <div class=\"leaderboard-wrapper text-center\"> <div class=\"leaderboard ad--desktop\"> <wp-ad aria-hidden=\"true\" data-google-query-id=\"CIS6uoSn04ADFQwAiAkd4qQM7g\" data-json='{\"targeting\":{\"pos\":\"leaderboard\",\"ctr\":[\"zeus_leaderboard\"],\"wp_ad_refresh\":\"0\",\"wp_refresh\":\"leaderboard_1_0\",\"id\":\"78ef229f-37da-11ee-a50c-0aa307af5307\",\"vw\":[\"40\",\"50\",\"60\",\"70\"],\"grm\":[\"40\",\"50\",\"60\"]}}' data-refresh=\"on\" data-size='[[2,1],[728,90],\"fluid\"]' data-slot=\"politics/the-fix\" id=\"slug_leaderboard_1\" style=\"margin: auto; width: 728px;\"><div id=\"google_ads_iframe_/701/wpni.politics/the-fix_2__container__\" style=\"border: 0pt none;\"><iframe aria-label=\"Advertisement\" data-google-container-id=\"3\" data-integralas-id-ac4fcb86-e662-a0ed-3cbb-7f24879323df=\"\" data-load-complete=\"true\" frameborder=\"0\" height=\"90\" id=\"google_ads_iframe_/701/wpni.politics/the-fix_2\" marginheight=\"0\" marginwidth=\"0\" name=\"google_ads_iframe_/701/wpni.politics/the-fix_2\" role=\"region\" sandbox=\"allow-forms allow-pointer-lock allow-popups allow-popups-to-escape-sandbox allow-same-origin allow-scripts allow-top-navigation-by-user-activation\" scrolling=\"no\" style=\"border: 0px; vertical-align: bottom;\" tabindex=\"0\" title=\"3rd party ad content\" width=\"728\"></iframe></div></wp-ad> </div> <div class=\"leaderboard ad--mobile\"> <wp-ad aria-hidden=\"true\" data-json='{\"targeting\":{\"pos\":\"mob_lb_1\",\"ctr\":[\"zeus_mob_lb_1\"],\"wp_ad_refresh\":\"0\",\"wp_refresh\":\"mob_lb_1_0\"},\"categoryExclusions\":[]}' data-refresh=\"on\" data-size='[[2,1],[300,50],[320,50],\"fluid\"]' data-slot=\"politics/the-fix\" id=\"slug_mob_lb_1\" style=\"margin: auto;\"></wp-ad> </div> </div> <div class=\"photo-illo section-3 pg-skinny\"> <div class=\"speech-bubble-wrapper\"> <div class=\"note-container\"> <p class=\"note\">News conference, March 16</p> </div> <div class=\"speech-bubble\"> <p>“We have an invisible enemy.”</p> <div class=\"speech-before\"></div> <div class=\"speech-after\"></div> </div> </div> <div class=\"img-wrapper\"> <img alt=\"Photo illustration of Trump with speech bubble saying, 'We have an invisible enemy.'\" class=\"loading\" data-was-processed=\"true\" src=\"img/photos/section-3.jpg\"/> </div> </div> <div class=\"date-range-wrapper pg-skinny\"> <p class=\"date-range\">Mid-March</p> </div> <h3 class=\"pg-body-copy pg-h3\">Acknowledging the severity of the pandemic</h3> <p class=\"pg-body-copy\" id=\"text-IYWL3IPYWBETTEHKWSOJ6J7J7M\"> The same week the WHO declared covid-19 a pandemic, the situation in the United States became more fraught. Stock markets continued to rapidly decline, and the U.S. death count began to double every few days. Businesses <a href=\"https://www.washingtonpost.com/sports/2020/03/11/nba-suspends-play-player-test-coronavirus/\" target=\"_blank\">from the National Basketball Association</a> to <a href=\"https://www.washingtonpost.com/business/2020/03/12/movies-broadway-cancellations-coronavirus/\" target=\"_blank\">Disney canceled or postponed events</a>. Cities worldwide <a href=\"https://www.washingtonpost.com/graphics/2020/national/coronavirus-shutdowns-cities/\" target=\"_blank\">asked their residents to quarantine at home</a> and practice social distancing. </p> <p class=\"pg-body-copy\" id=\"text-ZMN2V3UIZNE35HGRGI5EN6ZOQQ\"> Amid this backdrop, Trump shifted his tone and tried to paint himself as having taken the virus seriously from the start. By March 14, he had declared a national emergency and backtracked on many of his earlier remarks. </p> <div class=\"scroll-container\"> <div class=\"meeple-holder\" id=\"meeple-holder-3\"> <div class=\"status-tracker\" style=\"left: 619.75px;\"> <div class=\"date-tracker\">March 18</div> <div class=\"status-container\"> <div class=\"status-item confirmed\"> <div class=\"status-label\">Confirmed<br/>cases</div> <div class=\"status-value\">7,786</div> </div> <div class=\"status-item deaths\"> <div class=\"status-label\">Reported<br/>deaths</div> <div class=\"status-value\">118</div> </div> </div> </div> <canvas height=\"1058\" style=\"width: 945px; height: 1058px;\" width=\"945\"></canvas></div> <div class=\"scroll-steps\" id=\"scroll-steps-3\" style=\"margin-top: -75vh;\"> <div class=\"pg-scroll-step\" data-date=\"2020-03-14T04:00:00.000Z\" id=\"\"> <div class=\"pg-scroll-content\"> <h3 class=\"pg-h3 date\">March 14</h3> <p class=\"pg-bodyCopy pg-skinny\"> “We’re using the full power of the federal government to defeat the virus, and that’s what we’ve been doing.” </p> <p class=\"source\">— <a href=\"https://www.whitehouse.gov/briefings-statements/remarks-president-trump-vice-president-pence-members-coronavirus-task-force-press-briefing/\" target=\"_blank\">News conference</a></p> <div class=\"card-border\"></div> <p class=\"pg-skinny context\"> <strong>In the news: </strong> The Dow jumps nearly 2,000 points after Trump declared a national emergency the previous day. <a href=\"https://www.washingtonpost.com/world/2020/03/13/coronavirus-latest-news/\" target=\"_blank\">Read more <i aria-hidden=\"true\" class=\"fa fa-external-link\"></i></a> </p> </div> </div> <div class=\"pg-scroll-step\" data-date=\"2020-03-15T04:00:00.000Z\" id=\"\"> <div class=\"pg-scroll-content\"> <h3 class=\"pg-h3 date\">March 15</h3> <p class=\"pg-bodyCopy pg-skinny\"> “This is a very contagious virus. It’s incredible. But it’s something that we have tremendous control over.” </p> <p class=\"source\">— <a href=\"https://www.whitehouse.gov/briefings-statements/remarks-president-trump-vice-president-pence-members-coronavirus-task-force-press-briefing-2/\" target=\"_blank\">News conference</a></p> <div class=\"card-border\"></div> <p class=\"pg-skinny context\"> <strong>In the news: </strong> The Centers for Disease Control and Prevention urges a stop to gatherings of over 50 people. <a href=\"https://www.washingtonpost.com/world/2020/03/15/coronavirus-latest-news/\" target=\"_blank\">Read more <i aria-hidden=\"true\" class=\"fa fa-external-link\"></i></a> </p> </div> </div> <div class=\"pg-scroll-step\" data-date=\"2020-03-17T04:00:00.000Z\" id=\"\"> <div class=\"pg-scroll-content\"> <h3 class=\"pg-h3 date\">March 17</h3> <p class=\"pg-bodyCopy pg-skinny\"> “I felt it was a pandemic long before it was called a pandemic.” </p> <p class=\"source\">— <a href=\"https://www.whitehouse.gov/briefings-statements/remarks-president-trump-vice-president-pence-members-coronavirus-task-force-press-briefing-4/\" target=\"_blank\">News conference</a></p> <div class=\"card-border\"></div> <p class=\"pg-skinny context\"> <strong>In the news: </strong> The U.S. death toll surpasses 100. <a href=\"https://www.washingtonpost.com/national/us-coronavirus-death-toll-reaches-100/2020/03/17/f8d770c2-67a8-11ea-b313-df458622c2cc_story.html\" target=\"_blank\">Read more <i aria-hidden=\"true\" class=\"fa fa-external-link\"></i></a> </p> </div> </div> <div class=\"pg-scroll-step\" data-date=\"2020-03-18T04:00:00.000Z\" id=\"\"> <div class=\"pg-scroll-content\"> <h3 class=\"pg-h3 date\">March 18</h3> <p class=\"pg-bodyCopy pg-skinny\"> “I always treated the Chinese Virus very seriously, and have done a very good job from the beginning, including my very early decision to close the ‘borders’ from China - against the wishes of almost all.” </p> <p class=\"source\">— <a href=\"https://twitter.com/realDonaldTrump/status/1240243188708839424\" target=\"_blank\">Twitter</a></p> <div class=\"card-border\"></div> <div class=\"context-container\"> <div class=\"text-container\"> <p class=\"pg-skinny context\"> <strong>In the news: </strong> Stock markets close at their lowest point since Trump’s second week in the White House. <a href=\"https://www.washingtonpost.com/business/2020/03/18/stocks-markets-today-coronavirus/\" target=\"_blank\">Read more <i aria-hidden=\"true\" class=\"fa fa-external-link\"></i></a> </p> </div> <div class=\"sparkline\"> <img class=\"loading\" data-was-processed=\"true\" src=\"img/viz/mar_18_market-sparkline.png\"/> </div> </div> </div> </div> </div> </div> <div class=\"leaderboard-wrapper text-center\"> <div class=\"leaderboard ad--desktop\"> <wp-ad aria-hidden=\"true\" data-google-query-id=\"CLnY44an04ADFUv0swodwT4P8g\" data-json='{\"targeting\":{\"pos\":\"leaderboard\",\"ctr\":[\"zeus_leaderboard\"],\"wp_ad_refresh\":\"0\",\"wp_refresh\":\"leaderboard_2_0\",\"id\":\"7bcb6730-37da-11ee-950a-0a22d67aec5d\",\"vw\":[\"40\",\"50\",\"60\",\"70\"],\"grm\":[\"40\",\"50\",\"60\"]}}' data-refresh=\"on\" data-size='[[2,1],[728,90],\"fluid\"]' data-slot=\"politics/the-fix\" id=\"slug_leaderboard_2\" style=\"margin: auto; width: 728px;\"><div id=\"google_ads_iframe_/701/wpni.politics/the-fix_3__container__\" style=\"border: 0pt none;\"><iframe aria-label=\"Advertisement\" data-google-container-id=\"4\" data-integralas-id-95994eb0-f3b4-7d36-a351-65a38fba4476=\"\" data-load-complete=\"true\" frameborder=\"0\" height=\"90\" id=\"google_ads_iframe_/701/wpni.politics/the-fix_3\" marginheight=\"0\" marginwidth=\"0\" name=\"google_ads_iframe_/701/wpni.politics/the-fix_3\" role=\"region\" sandbox=\"allow-forms allow-pointer-lock allow-popups allow-popups-to-escape-sandbox allow-same-origin allow-scripts allow-top-navigation-by-user-activation\" scrolling=\"no\" style=\"border: 0px; vertical-align: bottom;\" tabindex=\"0\" title=\"3rd party ad content\" width=\"728\"></iframe></div></wp-ad> </div> <div class=\"leaderboard ad--mobile\"> <wp-ad aria-hidden=\"true\" data-json='{\"targeting\":{\"pos\":\"mob_lb_2\",\"ctr\":[\"zeus_mob_lb_2\"],\"wp_ad_refresh\":\"0\",\"wp_refresh\":\"mob_lb_2_0\"},\"categoryExclusions\":[]}' data-refresh=\"on\" data-size='[[2,1],[300,50],[320,50],\"fluid\"]' data-slot=\"politics/the-fix\" id=\"slug_mob_lb_2\" style=\"margin: auto;\"></wp-ad> </div> </div> <div class=\"photo-illo section-4 pg-skinny\"> <div class=\"img-wrapper\"> <img alt=\"Photo illustration of Trump with speech bubble saying, 'Our country wasn’t built to be shut down.'\" class=\"loading\" data-was-processed=\"true\" src=\"img/photos/section-4.jpg\"/> </div> <div class=\"speech-bubble-wrapper\"> <div class=\"speech-bubble\"> <p>“Our country wasn’t built to be shut down.”</p> </div> <div class=\"note-container\"> <p class=\"note\">News conference, March 23</p> </div> </div> </div> <div class=\"date-range-wrapper pg-skinny\"> <p class=\"date-range\">Late March </p> </div> <h3 class=\"pg-body-copy pg-h3\">Pivoting to focus on the economy</h3> <p class=\"pg-body-copy\" id=\"text-WNUL7AEBMJFYTFJMVTSRA2MHO4\"> Even with new guidelines from the White House and more federal efforts to combat the pandemic, both confirmed cases and deaths continued to rise exponentially. </p> <p class=\"pg-body-copy\" id=\"text-SPVGO4LXQRDTDONRJDMIPN3EKY\"> However, after stock markets closed at their lowest point since Trump’s second week in office, he once again changed the focus of his efforts. As health experts continued to urge the public to limit face-to-face interactions, the president lamented how these restrictions prevented economic growth. </p> <p class=\"pg-body-copy\" id=\"text-LMISMFWORJHLNOR7SCIIIZQEGQ\"> By late March, a <a href=\"https://www.washingtonpost.com/business/2020/03/26/unemployment-claims-coronavirus-3-million/\" target=\"_blank\">record 3.3 million Americans would file for unemployment</a>. The unemployment rate would rise to 5.5 percent, a level not seen since 2015. </p> <div class=\"scroll-container\"> <div class=\"meeple-holder\" id=\"meeple-holder-4\"> <div class=\"status-tracker\" style=\"left: 612.75px;\"> <div class=\"date-tracker\">March 24</div> <div class=\"status-container\"> <div class=\"status-item confirmed\"> <div class=\"status-label\">Confirmed<br/>cases</div> <div class=\"status-value\">53,740</div> </div> <div class=\"status-item deaths\"> <div class=\"status-label\">Reported<br/>deaths</div> <div class=\"status-value\">706</div> </div> </div> </div> <canvas height=\"1058\" style=\"width: 945px; height: 1058px;\" width=\"945\"></canvas></div> <div class=\"scroll-steps\" id=\"scroll-steps-4\" style=\"margin-top: -75vh;\"> <div class=\"pg-scroll-step\" data-date=\"2020-03-19T04:00:00.000Z\" id=\"\"> <div class=\"pg-scroll-content\"> <h3 class=\"pg-h3 date\">March 19</h3> <p class=\"pg-bodyCopy pg-skinny\"> “We took the best economy we’ve ever had and we said ‘Stop. You can’t work. You have to stay home.’ ... Here’s a case we’re paying a lot of money to stop things because we don’t want people to be together so that this virus doesn’t continue onward.” </p> <p class=\"source\">— <a href=\"https://factba.se/transcript/donald-trump-press-conference-coronavirus-briefing-march-19-2020\" target=\"_blank\">News conference</a></p> <div class=\"card-border\"></div> <p class=\"pg-skinny context\"> <strong>In the news: </strong> CDC data shows young people are a large percentage of coronavirus hospitalizations. <a href=\"https://www.washingtonpost.com/health/2020/03/19/younger-adults-are-large-percentage-coronavirus-hospitalizations-united-states-according-new-cdc-data/\" target=\"_blank\">Read more <i aria-hidden=\"true\" class=\"fa fa-external-link\"></i></a> </p> </div> </div> <div class=\"pg-scroll-step\" data-date=\"2020-03-23T04:00:00.000Z\" id=\"\"> <div class=\"pg-scroll-content\"> <h3 class=\"pg-h3 date\">March 23</h3> <p class=\"pg-bodyCopy pg-skinny\"> “America will again, and soon, be open for business — very soon — a lot sooner than three or four months that somebody was suggesting. ... We cannot let the cure be worse than the problem itself.” </p> <p class=\"source\">— <a href=\"https://factba.se/transcript/donald-trump-press-conference-coronavirus-briefing-march-23-2020\" target=\"_blank\">News conference</a></p> <div class=\"card-border\"></div> <div class=\"context-container\"> <div class=\"text-container\"> <p class=\"pg-skinny context\"> <strong>In the news: </strong> The Federal Reserve announces unlimited bond purchases in an attempt to stave off a depression. <a href=\"https://www.washingtonpost.com/business/2020/03/23/fed-unlimited-credit-coronavirus/\" target=\"_blank\">Read more <i aria-hidden=\"true\" class=\"fa fa-external-link\"></i></a> </p> </div> <div class=\"sparkline\"> <img class=\"loading\" data-was-processed=\"true\" src=\"img/viz/mar_23_market-sparkline.png\"/> </div> </div> </div> </div> <div class=\"pg-scroll-step\" data-date=\"2020-03-24T04:00:00.000Z\" id=\"\"> <div class=\"pg-scroll-content\"> <h3 class=\"pg-h3 date\">March 24</h3> <p class=\"pg-bodyCopy pg-skinny\"> “I’d love to have the country opened up and just raring to go by Easter.” </p> <p class=\"source\">— <a href=\"https://www.washingtonpost.com/health/2020/03/24/coronavirus-strategy-economy-debate/\" target=\"_blank\">Fox News interview</a></p> <div class=\"card-border\"></div> <p class=\"pg-skinny context\"> <strong>In the news: </strong> The Dow and the S&amp;P 500 surge upward in anticipation of an enormous stimulus relief package. <a href=\"https://www.washingtonpost.com/business/2020/03/27/stock-market-economy-dow-coronavirus/\" target=\"_blank\">Read more <i aria-hidden=\"true\" class=\"fa fa-external-link\"></i></a> </p> </div> </div> </div> </div> <div class=\"leaderboard-wrapper text-center\"> <div class=\"leaderboard ad--desktop\"> <wp-ad aria-hidden=\"true\" data-google-query-id=\"CMWbyYin04ADFf4YiAkdwYcOTQ\" data-json='{\"targeting\":{\"pos\":\"leaderboard\",\"ctr\":[\"zeus_leaderboard\"],\"wp_ad_refresh\":\"0\",\"wp_refresh\":\"leaderboard_3_0\",\"id\":\"7e0ea0df-37da-11ee-82cc-02f7dd777763\",\"vw\":[\"40\",\"50\",\"60\",\"70\"],\"grm\":[\"40\",\"50\",\"60\",\"70\"]}}' data-refresh=\"on\" data-size='[[2,1],[728,90],\"fluid\"]' data-slot=\"politics/the-fix\" id=\"slug_leaderboard_3\" style=\"margin: auto; width: 728px;\"><div id=\"google_ads_iframe_/701/wpni.politics/the-fix_4__container__\" style=\"border: 0pt none;\"><iframe aria-label=\"Advertisement\" data-google-container-id=\"5\" data-integralas-id-f8b7897b-5672-4edc-cf6f-4ec71b22ae3f=\"\" data-load-complete=\"true\" frameborder=\"0\" height=\"90\" id=\"google_ads_iframe_/701/wpni.politics/the-fix_4\" marginheight=\"0\" marginwidth=\"0\" name=\"google_ads_iframe_/701/wpni.politics/the-fix_4\" role=\"region\" sandbox=\"allow-forms allow-pointer-lock allow-popups allow-popups-to-escape-sandbox allow-same-origin allow-scripts allow-top-navigation-by-user-activation\" scrolling=\"no\" style=\"border: 0px; vertical-align: bottom;\" tabindex=\"0\" title=\"3rd party ad content\" width=\"728\"></iframe></div></wp-ad> </div> <div class=\"leaderboard ad--mobile\"> <wp-ad aria-hidden=\"true\" data-json='{\"targeting\":{\"pos\":\"mob_lb_3\",\"ctr\":[\"zeus_mob_lb_3\"],\"wp_ad_refresh\":\"0\",\"wp_refresh\":\"mob_lb_3_0\"},\"categoryExclusions\":[]}' data-refresh=\"on\" data-size='[[2,1],[300,50],[320,50],\"fluid\"]' data-slot=\"politics/the-fix\" id=\"slug_mob_lb_3\" style=\"margin: auto;\"></wp-ad> </div> </div> <div class=\"photo-illo section-5 pg-skinny\"> <div class=\"speech-bubble-wrapper\"> <div class=\"speech-bubble\"> <p>“We’re going to have a great victory.”</p> </div> <div class=\"note-container\"> <p class=\"note\">News conference, March 30</p> </div> </div> <div class=\"img-wrapper\"> <img alt=\"Photo illustration of Trump with speech bubble saying, 'We’re going to have a great victory.'\" class=\"loading\" data-was-processed=\"true\" src=\"img/photos/section-5.jpg\"/> </div> </div> <div class=\"date-range-wrapper pg-skinny\"> <p class=\"date-range\">End of March, heading into April</p> </div> <h3 class=\"pg-body-copy pg-h3\">Adopting the rhetoric of war</h3> <p class=\"pg-body-copy\" id=\"text-OJISOF5VSNDIRNLALDOJ2JS5XU\"> Trump’s statements indicating that he hoped to <a href=\"https://www.washingtonpost.com/health/trump-wants-us-economy-opened-up-and-raring-to-go-by-easter/2020/03/24/dced0a12-6d65-11ea-b148-e4ce3fbd85b5_story.html\" target=\"_blank\">scale back coronavirus restrictions to revive the economy</a> alarmed public health experts and <a href=\"https://www.washingtonpost.com/world/2020/03/26/coronavirus-latest-news/#link-PEKOHW4REBHPTKQ2WX3ALYAEUU\" target=\"_blank\">many elected leaders</a>. <a href=\"https://www.washingtonpost.com/health/2020/03/24/coronavirus-strategy-economy-debate/\" target=\"_blank\">Experts warned</a> that these restrictions would need to stay in place much longer to avoid more deaths. Medical workers also expressed alarm at the prospect of overwhelmed emergency rooms. </p> <p class=\"pg-body-copy\" id=\"text-IRRH4BA5NZBX7IQ6MJWFMYLMY4\"> As cases continued to increase, <a href=\"https://www.washingtonpost.com/nation/2020/03/27/coronavirus-trump-fox-ventilator/\" target=\"_blank\">Trump expressed doubt</a> about New York Gov. Andrew M. Cuomo’s plea for 30,000 more ventilators to care for the influx of patients expected to flood hospitals. Yet by Sunday, Trump seemed to acknowledge the improbability of quickly reopening the economy, declaring that the Easter deadline was “just an aspiration” and announcing that he would extend federal guidance on social distancing through April. </p> <p class=\"pg-body-copy\" id=\"text-W76YPYZ3LRG6RFMVRG22WXLGFE\"> As March came to a close, Trump began to embrace the image of himself as the leader of a country at war. He first <a href=\"https://www.washingtonpost.com/politics/seven-days-as-a-wartime-president-trumps-up-and-down-command-of-a-pandemic/2020/03/20/0dac3610-6ad6-11ea-9923-57073adce27c_story.html\" target=\"_blank\">referred to himself as a “wartime president”</a> on March 19. In recent days, Trump has increasingly adopted wartime rhetoric to describe his attitude toward the pandemic. </p> <div class=\"scroll-container\"> <div class=\"meeple-holder\" id=\"meeple-holder-5\"> <div class=\"status-tracker\" style=\"left: 601.75px;\"> <div class=\"date-tracker\">March 29</div> <div class=\"status-container\"> <div class=\"status-item confirmed\"> <div class=\"status-label\">Confirmed<br/>cases</div> <div class=\"status-value\">140,886</div> </div> <div class=\"status-item deaths\"> <div class=\"status-label\">Reported<br/>deaths</div> <div class=\"status-value\">2,467</div> </div> </div> </div> <canvas height=\"1058\" style=\"width: 945px; height: 1058px;\" width=\"945\"></canvas></div> <div class=\"scroll-steps\" id=\"scroll-steps-5\" style=\"margin-top: -75vh;\"> <div class=\"pg-scroll-step\" data-date=\"2020-03-26T04:00:00.000Z\" id=\"\"> <div class=\"pg-scroll-content\"> <h3 class=\"pg-h3 date\">March 26</h3> <p class=\"pg-bodyCopy pg-skinny\"> “I don’t believe you need 40,000 or 30,000 ventilators. You know, you go into major hospitals sometimes they’ll have two ventilators, and now all of a sudden they’re saying, ‘Can we order 30,000 ventilators?’” </p> <p class=\"source\">— <a href=\"https://www.washingtonpost.com/nation/2020/03/27/coronavirus-trump-fox-ventilator/\" target=\"_blank\">Fox News interview</a></p> <div class=\"card-border\"></div> <p class=\"pg-skinny context\"> <strong>In the news: </strong> The government reports that a record 3.3 million Americans applied for unemployment benefits the previous week. <a href=\"https://www.washingtonpost.com/business/2020/03/26/unemployment-claims-coronavirus-3-million/\" target=\"_blank\">Read more <i aria-hidden=\"true\" class=\"fa fa-external-link\"></i></a> </p> </div> </div> <div class=\"pg-scroll-step\" data-date=\"2020-03-28T04:00:00.000Z\" id=\"\"> <div class=\"pg-scroll-content\"> <h3 class=\"pg-h3 date\">March 28</h3> <p class=\"pg-bodyCopy pg-skinny\"> “WE WILL WIN THIS WAR. When we achieve this victory, we will emerge stronger and more united than ever before!” </p> <p class=\"source\">— <a href=\"https://twitter.com/realDonaldTrump/status/1244029041432244224\" target=\"_blank\">Twitter</a></p> <div class=\"card-border\"></div> <div class=\"context-container\"> <div class=\"text-container\"> <p class=\"pg-skinny context\"> <strong>In the news: </strong> The previous day, the president signs a $2 trillion emergency spending bill to shore up the economy. <a href=\"https://www.washingtonpost.com/business/2020/03/25/trump-senate-coronavirus-economic-stimulus-2-trillion/\" target=\"_blank\">Read more <i aria-hidden=\"true\" class=\"fa fa-external-link\"></i></a> </p> </div> <div class=\"sparkline\"> <img class=\"loading\" data-was-processed=\"true\" src=\"img/viz/mar_27_market-sparkline.png\"/> </div> </div> </div> </div> <div class=\"pg-scroll-step\" data-date=\"2020-03-29T04:00:00.000Z\" id=\"\"> <div class=\"pg-scroll-content\"> <h3 class=\"pg-h3 date\">March 29</h3> <p class=\"pg-bodyCopy pg-skinny\"> </p><p class=\"pg-bodyCopy pg-skinny\">“Nothing would be worse than declaring victory before the victory is won.” </p> <p class=\"source\">— <a href=\"https://www.washingtonpost.com/national/president-trump-extends-social-distancing-guidance-until-end-of-april/2020/03/29/5799f262-71e8-11ea-a9bd-9f8b593300d0_story.html\" target=\"_blank\">News conference</a></p> <div class=\"card-border\"></div> <p class=\"pg-skinny context\"> <strong>In the news: </strong> The U.S. has more cases than any other country in the world. <a href=\"https://www.washingtonpost.com/world/2020/03/27/coronavirus-latest-news/\" target=\"_blank\">Read more <i aria-hidden=\"true\" class=\"fa fa-external-link\"></i></a> </p> </div> </div> </div> </div> <p class=\"pg-body-copy\" id=\"text-PMB425I33VCZPCMCCZH7VRPHQA\"> Over the weekend, Anthony S. Fauci, one of the nation’s top infectious disease experts and a member of the White House’s coronavirus task force, warned that between <a href=\"https://www.washingtonpost.com/world/2020/03/29/coronavirus-latest-news/\" target=\"_blank\">100,000 and 200,000 Americans could die</a> and that millions would be infected. The president <a href=\"https://www.washingtonpost.com/politics/fauci-says-coronavirus-deaths-in-us-could-top-100000/2020/03/29/96ab11aa-71c7-11ea-ad9b-254ec99993bc_story.html\" target=\"_blank\">said on Sunday</a> that the country would be doing well if it “can hold” the number of deaths “down to 100,000.” </p> <p class=\"pg-body-copy\" id=\"text-7TRKDLGXOVHZLJTIPXL5EG3VMA\"> <a href=\"https://www.washingtonpost.com/magazine/2020/03/26/can-deborah-birx-save-us-coronavirus/?arc404=true\" target=\"_blank\">Deborah Birx</a>, another member of the task force, offered her own grim assessment: “No state, no metro area, will be spared.” </p> <div class=\"pg-linkdump pg-skinny\"> <div class=\"pg-linkdump-label\">Related stories</div> <span class=\"pg-linkdump-link\"><a href=\"https://www.washingtonpost.com/business/2020/03/30/coronavirus-drugs-hydroxychloroquin-chloroquine/?itid=lb_coronavirus-what-you-need-to-read_2\">FDA authorizes widespread use of unproven drugs to treat coronavirus</a></span> <span class=\"pg-linkdump-link\"><a href=\"https://www.washingtonpost.com/politics/2020/03/30/11-100000-what-went-wrong-with-coronavirus-testing-us/?itid=lb_coronavirus-what-you-need-to-read_3\">What went wrong with coronavirus testing in the U.S</a></span> <span class=\"pg-linkdump-link\"><a href=\"https://www.washingtonpost.com/politics/corporate-executives-play-an-outsize-role-at-trumps-coronavirus-briefings/2020/03/30/3d0cd72c-729f-11ea-a9bd-9f8b593300d0_story.html\">Trump puts corporate executives front and center at Rose Garden briefings</a></span> <span class=\"pg-linkdump-link\"><a href=\"https://www.washingtonpost.com/health/cdc-considering-recommending-general-public-wear-face-coverings-in-public/2020/03/30/6a3e495c-7280-11ea-87da-77a8136c1a6d_story.html\">CDC is considering recommending that people wear face coverings in public</a></span> </div> <div class=\"pg-skinny pg-source-wrapper\"> <div class=\"bottom-author-bio\"> <div class=\"author-image\"> <a href=\"https://www.washingtonpost.com/people/shelly-tan/\"><img class=\"loading\" data-was-processed=\"true\" src=\"img/200/0ba351d2-7642-43d5-9dc1-1b040f5d92ff.png\"/></a> </div> <div class=\"author-info\" data-authorname=\"shelly-tan\"> <h2><a href=\"https://www.washingtonpost.com/people/shelly-tan/\">Shelly Tan</a></h2> <p>Shelly Tan is a graphics reporter and illustrator specializing in pop culture. She designs and develops interactive graphics. </p> </div> </div> <div class=\"bottom-author-bio\"> <div class=\"author-image\"> <a href=\"https://www.washingtonpost.com/people/harry-stevens/\"><img class=\"loading\" data-was-processed=\"true\" src=\"img/200/68d4c334-4d42-4b1d-995a-7c66701f1d77.png\"/></a> </div> <div class=\"author-info\" data-authorname=\"harry-stevens\"> <h2><a href=\"https://www.washingtonpost.com/people/harry-stevens/\">Harry Stevens</a></h2> <p>Harry Stevens joined The Washington Post as a graphics reporter in 2019. </p> </div> </div> <div class=\"pg-card--about\"> <p class=\"pg-card-title pg-card-margin--top pg-card-margin--sides\">About this story</p> <p class=\"pg-card-description pg-card-margin--sides\">Original photos by Jabin Botsford/The Washington Post. Images of Trump shown are not from the same date as his quotes and are used only for illustrative purposes.</p> <p class=\"pg-card-description pg-card-margin--sides\">The daily count of U.S. cases and deaths was collected by Johns Hopkins University Center for Systems Science and Engineering and is <a href=\"https://github.com/CSSEGISandData/COVID-19/tree/master/csse_covid_19_data/csse_covid_19_daily_reports\">available for download on GitHub</a>. Dow Jones chart data from Bloomberg.</p> </div> <div class=\"pg-share-comment-wrapper pg-skinny\"> <div class=\"pg-shareBar\"> <div class=\"pg-shareBar-label\">Share</div> <a class=\"pg-shareBar-share pg-twitter--color\" onclick=\"var shareWindow=window.open('https://twitter.com/share?url=https://wapo.st/trump-virus-quotes%3Ftid=ss_tw&amp;text=' + encodeURIComponent('These quotes show how Trump’s response to the coronavirus has changed over time'),'share_twitter','width=550, height=350, scrollbars=no'); try{wp_pb.StaticMethods.staticPostShare.callPostShare('twitter', this.postShareObject, 'https://twitter.com/share?url=', 'https://www.washingtonpost.com/graphics/2020/politics/trump-coronavirus-statements/', '&amp;text=' + encodeURIComponent('These quotes show how Trump’s response to the coronavirus has changed over time'), 'width=550, height=350, scrollbars=no', shareWindow, 'ss_tw');}catch(err){if(false){console.log(err);}} return false;\"><span class=\"fa fa-twitter\"></span></a> <a class=\"pg-shareBar-share pg-facebook--color\" onclick=\"var shareWindow=window.open('https://www.facebook.com/sharer/sharer.php?u=https://wapo.st/trump-virus-quotes%3Ftid=ss_fb','share_facebook','width=658,height=354,scrollbars=no'); try{wp_pb.StaticMethods.staticPostShare.callPostShare('facebook', this.postShareObject, 'https://www.facebook.com/sharer/sharer.php?u=', 'https://www.washingtonpost.com/graphics/2020/politics/trump-coronavirus-statements/', '', 'width=658,height=354,scrollbars=no', shareWindow, 'ss_fb');}catch(err){if(false){console.log(err);}} return false;\"><span class=\"fa fa-facebook-square\"></span></a> <a class=\"pg-shareBar-share pg-email--color\" onclick=\"try{wp_pb.StaticMethods.staticPostShare.callPostShare('email', this.postShareObject, 'mailto:?subject=' + encodeURIComponent('These quotes show how Trump’s response to the coronavirus has changed over time') + ' from The Washington Post&amp;body=', 'https://www.washingtonpost.com/graphics/2020/politics/trump-coronavirus-statements/', '', null, null, 'ss_mail');}catch(err){if(false){console.log(err);} window.location.href = 'mailto:?subject=' + encodeURIComponent('These quotes show how Trump’s response to the coronavirus has changed over time') + ' from The Washington Post&amp;body=https://wapo.st/trump-virus-quotes%3Ftid=ss_mail'; }return false;\"><span class=\"fa fa-envelope\"></span></a> <a class=\"pg-shareBar-share pg-linkedIn--color\" onclick=\"var shareWindow=window.open('https://www.linkedin.com/shareArticle?mini=true&amp;url=https://wapo.st/trump-virus-quotes%3Ftid=ss_in&amp;title=' + encodeURIComponent('These quotes show how Trump’s response to the coronavirus has changed over time'),'share_linkedin','width=830,height=460,scrollbars=no'); try{wp_pb.StaticMethods.staticPostShare.callPostShare('linkedin', this.postShareObject, 'https://www.linkedin.com/shareArticle?mini=true&amp;url=', 'https://www.washingtonpost.com/graphics/2020/politics/trump-coronavirus-statements/', '&amp;title=' + encodeURIComponent('These quotes show how Trump’s response to the coronavirus has changed over time'), 'width=830,height=460,scrollbars=no', shareWindow, 'ss_in');}catch(err){if(false){console.log(err);}} return false;\"><span class=\"fa fa-linkedin\"></span></a> </div> <button class=\"pg-button\" id=\"pg-button--comments\"><span class=\"fa fa-comments\"></span> <span class=\"coral_container talk_comment_count comment-vars coral-counter format_short comments\" guid=\"\" id=\"coral_container\"></span> Comments</button> </div> </div> <div class=\"pg-source-wrapper\"> <div class=\"pg-chart pg-border--bottom\"> <footer class=\"pg-chart-footer\"></footer> </div> </div> <div class=\"endCap\" id=\"endCap\"></div> </article> <div class=\"pg-article-bottom\"> <div class=\"pg-moreStories-container pg-article-bottom--left\"> <div class=\"pg-moreStories cf\"> <p class=\"pg-label--wBar\">More stories</p> <div class=\"pg-moreStories-unit cf\"> <div class=\"pg-moreStories-unit-text col-xs-8\"> <h5> <a href=\"https://www.washingtonpost.com/graphics/2020/national/coronavirus-esssential-businesses/?tid=graphics-story\"> What counts as an essential business in 10 U.S. cities </a> </h5> <p> Every city is keeping grocery stores open. Only a few are doing the same for marijuana dispensaries. </p> </div> <div class=\"pg-moreStories-unit-image col-xs-4\"> <a href=\"https://www.washingtonpost.com/graphics/2020/national/coronavirus-esssential-businesses/?tid=graphics-story\"> <noscript> <img src=\"https://www.washingtonpost.com/resizer/ZP8LYU-5H-pq2ocspyx_XL3s2QA=/1200x630/filters:focal(759x427:1541x867):quality(100)/arc-anglerfish-washpost-prod-washpost/XQB62S46VJFZXP5FDFNABMPDEQ.jpg?c=5bb2f1c2d744a616473a8b543dba4ae8d5d385a7-1586371551\" style=\"display: inline;\"/> </noscript> <img class=\"image loading\" data-was-processed=\"true\" src=\"https://www.washingtonpost.com/resizer/ZP8LYU-5H-pq2ocspyx_XL3s2QA=/1200x630/filters:focal(759x427:1541x867):quality(100)/arc-anglerfish-washpost-prod-washpost/XQB62S46VJFZXP5FDFNABMPDEQ.jpg?c=5bb2f1c2d744a616473a8b543dba4ae8d5d385a7-1586371551\" style=\"display: inline;\"/> </a> </div> </div> <div class=\"pg-moreStories-unit cf\"> <div class=\"pg-moreStories-unit-text col-xs-8\"> <h5> <a href=\"https://www.washingtonpost.com/graphics/business/coronavirus-stimulus-check-calculator/?tid=graphics-story\"> Calculate how much you’ll get from the $1,200 (or more) coronavirus checks </a> </h5> <p> Over 80 percent of American adults will receive a payment. </p> </div> <div class=\"pg-moreStories-unit-image col-xs-4\"> <a href=\"https://www.washingtonpost.com/graphics/business/coronavirus-stimulus-check-calculator/?tid=graphics-story\"> <noscript> <img src=\"https://www.washingtonpost.com/resizer/6pVy0hFdcJAE9yRg-jKGL7xzcbQ=/1200x900/filters:focal(759x506:1541x1026):quality(100)/arc-anglerfish-washpost-prod-washpost/J33CPAGXYREHXP7BBCQDJHBWVY.jpg?c=5bb2f1c2d744a616473a8b543dba4ae8d5d385a7-1586371551\" style=\"display: inline;\"/> </noscript> <img class=\"image loading\" data-was-processed=\"true\" src=\"https://www.washingtonpost.com/resizer/6pVy0hFdcJAE9yRg-jKGL7xzcbQ=/1200x900/filters:focal(759x506:1541x1026):quality(100)/arc-anglerfish-washpost-prod-washpost/J33CPAGXYREHXP7BBCQDJHBWVY.jpg?c=5bb2f1c2d744a616473a8b543dba4ae8d5d385a7-1586371551\" style=\"display: inline;\"/> </a> </div> </div> <div class=\"pg-moreStories-unit cf\"> <div class=\"pg-moreStories-unit-text col-xs-8\"> <h5> <a href=\"https://www.washingtonpost.com/graphics/2020/national/coronavirus-us-cases-deaths/?tid=graphics-story\"> Tracking U.S. coronavirus cases by state </a> </h5> <p> The death toll from covid-19 began to rise steadily in early March, then more sharply as the disease spread to every state and most U.S. territories. </p> </div> <div class=\"pg-moreStories-unit-image col-xs-4\"> <a href=\"https://www.washingtonpost.com/graphics/2020/national/coronavirus-us-cases-deaths/?tid=graphics-story\"> <noscript> <img src=\"https://www.washingtonpost.com/resizer/fe3Pa2u89xdCfz_5TC41EasFyB8=/arc-anglerfish-washpost-prod-washpost/J76HXJYJVVAV7CIRKG6TEOS22Q.jpg?c=5bb2f1c2d744a616473a8b543dba4ae8d5d385a7-1586371551\" style=\"display: inline;\"/> </noscript> <img class=\"image loading\" data-was-processed=\"true\" src=\"https://www.washingtonpost.com/resizer/fe3Pa2u89xdCfz_5TC41EasFyB8=/arc-anglerfish-washpost-prod-washpost/J76HXJYJVVAV7CIRKG6TEOS22Q.jpg?c=5bb2f1c2d744a616473a8b543dba4ae8d5d385a7-1586371551\" style=\"display: inline;\"/> </a> </div> </div> <div class=\"pg-moreStories-unit cf\"> <div class=\"pg-moreStories-unit-text col-xs-8\"> <h5> <a href=\"https://www.washingtonpost.com/graphics/2020/national/sick-leave-workers-coronavirus/?tid=graphics-story\"> Which workers are covered by the Families First Coronavirus Response Act </a> </h5> <p> Only 12 percent of workers in businesses that are likely to stay open will be be guaranteed sick leave. </p> </div> <div class=\"pg-moreStories-unit-image col-xs-4\"> <a href=\"https://www.washingtonpost.com/graphics/2020/national/sick-leave-workers-coronavirus/?tid=graphics-story\"> <noscript> <img src=\"https://www.washingtonpost.com/resizer/KcbOYFP3Zl2HEpSYKLUgnyg7N9Q=/0x0/filters:focal(0x0:0x0):quality(100)/arc-anglerfish-washpost-prod-washpost/public/SFCYC25HNBGGLBHIKON7OKB26Q.jpg?c=5bb2f1c2d744a616473a8b543dba4ae8d5d385a7-1586371551\" style=\"display: inline;\"/> </noscript> <img class=\"image loading\" data-was-processed=\"true\" src=\"https://www.washingtonpost.com/resizer/KcbOYFP3Zl2HEpSYKLUgnyg7N9Q=/0x0/filters:focal(0x0:0x0):quality(100)/arc-anglerfish-washpost-prod-washpost/public/SFCYC25HNBGGLBHIKON7OKB26Q.jpg?c=5bb2f1c2d744a616473a8b543dba4ae8d5d385a7-1586371551\" style=\"display: inline;\"/> </a> </div> </div> </div> <div class=\"bottom-ad\"> <div class=\"bottom-ad--bigbox ad--desktop\"> <wp-ad aria-hidden=\"true\" data-google-query-id=\"CM_ZiYun04ADFesgiAkd9HQApw\" data-json='{\"targeting\":{\"pos\":\"bigbox\",\"ctr\":[\"zeus_bigbox\"],\"wp_ad_refresh\":\"0\",\"wp_refresh\":\"bigbox_0\",\"id\":\"81302bef-37da-11ee-9a5e-0ead7f26dc8b\",\"vw\":[\"40\",\"50\",\"60\",\"70\",\"80\"],\"grm\":[\"40\",\"50\",\"60\",\"70\"]}}' data-refresh=\"on\" data-size='[[2,1],[300,250],\"fluid\"]' data-slot=\"politics/the-fix\" id=\"slug_bigbox\" style=\"margin: auto; width: 300px; min-height: 250px;\"><div id=\"google_ads_iframe_/701/wpni.politics/the-fix_5__container__\" style=\"border: 0pt none;\"><iframe aria-label=\"Advertisement\" data-google-container-id=\"6\" data-integralas-id-45e11a79-89a5-5a42-6889-a04ceebceb8b=\"\" data-load-complete=\"true\" frameborder=\"0\" height=\"250\" id=\"google_ads_iframe_/701/wpni.politics/the-fix_5\" marginheight=\"0\" marginwidth=\"0\" name=\"google_ads_iframe_/701/wpni.politics/the-fix_5\" role=\"region\" sandbox=\"allow-forms allow-pointer-lock allow-popups allow-popups-to-escape-sandbox allow-same-origin allow-scripts allow-top-navigation-by-user-activation\" scrolling=\"no\" style=\"border: 0px; vertical-align: bottom;\" tabindex=\"0\" title=\"3rd party ad content\" width=\"300\"></iframe></div></wp-ad> </div> <div class=\"bottom-ad--bigbox ad--mobile\"> <wp-ad aria-hidden=\"true\" data-json='{\"targeting\":{\"pos\":\"mob_bigbox\",\"ctr\":[\"zeus_mob_bigbox\"],\"wp_ad_refresh\":\"0\",\"wp_refresh\":\"mob_bigbox_0\"},\"categoryExclusions\":[]}' data-refresh=\"on\" data-size='[[2,1],[300,250],\"fluid\"]' data-slot=\"politics/the-fix\" id=\"slug_mob_bigbox\" style=\"margin: auto;\"></wp-ad> </div> </div> <script id=\"coral-talk-loader-script\" src=\"https://www.washingtonpost.com/talk/static/embed.js\"></script> <script id=\"coral-talk-comment-count-loader-script\" src=\"https://www.washingtonpost.com/talk/static/embed/count.js?url=https://www.washingtonpost.com/graphics/2020/politics/trump-coronavirus-statements/&amp;notext\"></script> <div class=\"pretty-comments\" id=\"comments\" style=\"display: none;\"> <span data-asset-url=\"https://www.washingtonpost.com/graphics/2020/politics/trump-coronavirus-statements/\" data-authors=\"Harry Stevens; Shelly Tan\" data-plugin-config=\"{'allow_comments&quot;:true,&quot;comments_period&quot;:14,&quot;comments_period_expired&quot;:false,&quot;display_comments&quot;:true,&quot;includeFeaturedComments&quot;:true,&quot;includeFeatureNotification&quot;:true,&quot;includeLike&quot;:true,&quot;includePermalink&quot;:true,&quot;includeReply&quot;:true,&quot;includeReport&quot;:true,&quot;includeRespect&quot;:true,&quot;includeVerifiedCommenters&quot;:true,&quot;isOffTopicHidden&quot;:true,&quot;talk_auth_url&quot;:&quot;https://talk-auth.washingtonpost.com/&quot;,&quot;talk_comment_count_url&quot;:&quot;https://www.washingtonpost.com/talk/static/embed/count.js&quot;,&quot;talk_load_script&quot;:&quot;https://www.washingtonpost.com/talk/static/embed.js&quot;,&quot;talk_url&quot;:&quot;https://www.washingtonpost.com/talk/&quot;}\" data-site-service-section=\"graphics\" data-talk-url=\"https://www.washingtonpost.com/talk/\" data-validate-url=\"https://talk-auth.washingtonpost.com/validate/\" id=\"coral-data-wrapper\"></span> <div id=\"comments\"> <div id=\"coral_talk_auth_status_target\"></div> <div id=\"coral_talk_feature_notification_target\"></div> <div id=\"coral_talk_embed\"></div> </div> </div> </div> <div class=\"pg-mostRead pg-article-bottom--related\"> <p class=\"pg-label--wBar\">Most Read</p> <div class=\"pg-mostRead-items\" id=\"relatedHeadlines\">\n",
       "<div class=\"article\">\n",
       "<a href=\"https://washingtonpost.com/travel/interactive/2023/surfing-resorts-indonesia-mentawais-airport/?tid=pm_graphics_pop_b\">\n",
       "<div class=\"number left\">1</div>\n",
       "<img class=\"right\" src=\"https://img.washingtonpost.com/wp-apps/imrs.php?src=https://www.washingtonpost.com/wp-apps/imrs.php?src=https://arc-anglerfish-washpost-prod-washpost.s3.amazonaws.com/public/G63NAO35MKLAGSKMY5O5N42CCA.JPG&amp;w=1200&amp;w=60&amp;h=60\"/>\n",
       "<div class=\"headline\">Last call for a surfers’ hideaway</div>\n",
       "<div class=\"clear\"></div>\n",
       "</a>\n",
       "</div>\n",
       "<div class=\"article\">\n",
       "<a href=\"https://washingtonpost.com/outlook/2020/01/31/slavery-reparations-seem-impossible-many-places-theyre-already-happening/?tid=pm_graphics_pop_b\">\n",
       "<div class=\"number left\">2</div>\n",
       "<img class=\"right\" src=\"https://img.washingtonpost.com/wp-apps/imrs.php?src=https://www.washingtonpost.com/wp-apps/imrs.php?src=https://arc-anglerfish-washpost-prod-washpost.s3.amazonaws.com/public/ARRIZGCZANCMNMAVRPIRZPBUYM.jpg&amp;w=1484&amp;w=60&amp;h=60\"/>\n",
       "<div class=\"headline\">Slavery reparations seem impossible. In many places, they’re already happening.</div>\n",
       "<div class=\"clear\"></div>\n",
       "</a>\n",
       "</div>\n",
       "<div class=\"article\">\n",
       "<a href=\"https://washingtonpost.com/opinions/2021/01/05/trump-lost-he-won-millions-new-voters-where-did-they-come/?tid=pm_graphics_pop_b\">\n",
       "<div class=\"number left\">3</div>\n",
       "<img class=\"right\" src=\"https://img.washingtonpost.com/wp-apps/imrs.php?src=https://www.washingtonpost.com/wp-apps/imrs.php?src=https://arc-anglerfish-washpost-prod-washpost.s3.amazonaws.com/public/4I2PZWU72VAKHCX2GLI5Q6WTWY.jpg&amp;w=1484&amp;w=60&amp;h=60\"/>\n",
       "<div class=\"headline\">Trump lost, but he won millions of new voters. Where did they come from?</div>\n",
       "<div class=\"clear\"></div>\n",
       "</a>\n",
       "</div>\n",
       "<div class=\"article\">\n",
       "<a href=\"https://washingtonpost.com/lifestyle/2021/01/30/dogs-white-house-questions-major-champ-biden/?tid=pm_graphics_pop_b\">\n",
       "<div class=\"number left\">4</div>\n",
       "<img class=\"right\" src=\"https://img.washingtonpost.com/wp-apps/imrs.php?src=https://www.washingtonpost.com/wp-apps/imrs.php?src=https://arc-anglerfish-washpost-prod-washpost.s3.amazonaws.com/public/APEHOUTA2YI6XILXO5S7FGUVEQ.jpg&amp;w=1484&amp;w=60&amp;h=60\"/>\n",
       "<div class=\"headline\">‘Who pours the kibble?’ And other answers about daily life for dogs in the White House</div>\n",
       "<div class=\"clear\"></div>\n",
       "</a>\n",
       "</div>\n",
       "<div class=\"article\">\n",
       "<a href=\"https://washingtonpost.com/business/2020/07/06/explore-sba-data-businesses-that-received-ppp-loans/?tid=pm_graphics_pop_b\">\n",
       "<div class=\"number left\">5</div>\n",
       "<img class=\"right\" src=\"https://img.washingtonpost.com/wp-apps/imrs.php?src=https://www.washingtonpost.com/wp-apps/imrs.php?src=https://arc-anglerfish-washpost-prod-washpost.s3.amazonaws.com/public/WX5LPGVZ7QI6VBFYV2UXJP3SVM.jpg&amp;w=1200&amp;w=60&amp;h=60\"/>\n",
       "<div class=\"headline\">Explore updated SBA data on businesses that received PPP loans</div>\n",
       "<div class=\"clear\"></div>\n",
       "</a>\n",
       "</div>\n",
       "</div> <div class=\"pg-follow\"> <p class=\"pg-label--wBar\">Follow Post Graphics</p> <div class=\"pg-followBar\"> <a class=\"pg-twitter--color\" href=\"https://twitter.com/postgraphics\"><span class=\"fa fa-twitter\"></span></a> <a class=\"pg-facebook--color\" href=\"https://www.facebook.com/washpostvisuals/\"><span class=\"fa fa-facebook-square\"></span></a> <a class=\"pg-tumblr--color\" href=\"https://postgraphics.tumblr.com/\"><span class=\"fa fa-tumblr\"></span></a> </div> </div> <div style=\"clear:both; max-width:600px; margin-left:auto;margin-right:auto;\"><p class=\"pg-label--wBar\"><strong>Terms of use</strong></p><ul style=\"list-style-type:none;padding-left:0;margin-left:0;\"> <li style=\"padding-bottom: 6px;\"><a href=\"/policies-and-standards/\" style=\"color:#333\">Policies and Standards</a></li> <li style=\"padding-bottom: 6px;\"><a href=\"/terms-of-sale-for-digital-products/2014/05/06/b7763844-cbf9-11e3-93eb-6c0037dde2ad_story.html\" style=\"color:#333\">Digital Products Terms of Sale</a></li> <li style=\"padding-bottom: 6px;\"><a href=\"/terms-of-sale-for-print-products/2014/05/08/d60c4bc8-d6c0-11e3-aae8-c2d44bd79778_story.html\" style=\"color:#333\">Print Products Terms of Sale</a></li> <li style=\"padding-bottom: 6px;\"><a href=\"/terms-of-service/2011/11/18/gIQAldiYiN_story.html\" style=\"color:#333\">Terms of Service</a></li> <li style=\"padding-bottom: 6px;\"><a href=\"/privacy-policy/2011/11/18/gIQASIiaiN_story.html\" style=\"color:#333\">Policies and Standards</a></li> <li style=\"padding-bottom: 6px;\"><a href=\"/policies-and-standards/\" style=\"color:#333\">Privacy Policy</a></li> <li style=\"padding-bottom: 6px;\"><a href=\"/news/ask-the-post/discussion-and-submission-guidelines/\" style=\"color:#333\">Submissions and Discussion Policy</a></li> <li style=\"padding-bottom: 6px;\"><a href=\"/rss-terms-of-service/2012/01/16/gIQAadFYAQ_story.html\" style=\"color:#333\">RSS Terms of Service</a></li> <li style=\"padding-bottom: 6px;\"><a href=\"/how-can-i-opt-out-of-online-advertising-cookies/2011/11/18/gIQABECbiN_story.html\" style=\"color:#333\">Ad Choices</a></li><li style=\"padding-bottom: 6px;\"><a href=\"/my-post/privacy-settings\" id=\"pg-ccpa\" style=\"color:#333\">Do Not Sell My Info</a></li></ul></div></div> </div> <script defer=\"defer\" src=\"https://www.washingtonpost.com/pb/resources/js/jquery/3.1/jquery-3.1.1.min.js\"></script> <script async=\"\" defer=\"defer\" src=\"https://www.washingtonpost.com/wp-stat/ad/zeus/graphic/wp-ad.min.js\" type=\"text/javascript\"></script> <script type=\"text/javascript\">window.head_conf = {head: \"TWPHead\"};</script> <script defer=\"defer\" src=\"https://www.washingtonpost.com/pb/resources/js/head.min.js\" type=\"text/javascript\"></script> <script defer=\"defer\" src=\"https://www.washingtonpost.com/1h/twp-global.js\" type=\"text/javascript\"></script> <script defer=\"defer\" src=\"https://www.washingtonpost.com/wp-srv/graphics/js/twp.util.js\" type=\"text/javascript\"></script> <script defer=\"defer\" src=\"https://www.washingtonpost.com/wp-srv/graphics/js/mobile-base-1.1.js?v2\" type=\"text/javascript\"></script> <script charset=\"utf-8\" defer=\"defer\" src=\"js/base.js?c=5bb2f1c2d744a616473a8b543dba4ae8d5d385a7-1586371551\" type=\"text/javascript\"></script> <script id=\"\" type=\"text/javascript\">var activation=function(a){console.log(\"[JTS] Processing\");window.__tcfapi||\"S\"!==a?window.__tcfapi||(console.log(\"[JTS] US Reject Mode\"),window.jentis.consent.engine.DenyAll()):(console.log(\"[JTS] US Accept Mode\"),window.jentis.consent.engine.AcceptAll());_jts.push({dnsSetting:window.__tcfapi?\"TCF\":a,track:\"uspapi\"});_jts.push({track:\"submit\"});window.__tcfapi?console.log(\"[JTS] Consent mgmt delegated to OneTrust\"):jentis.consent.engine.setConsentData({ga:!0,googleanalytics:!0})},parseConsent=function(a){a=\n",
       "a.split(\"\")[2];return\"Y\"===a?\"DNS\":\"S\"},turnOnJentis=function(a,b,e,c){null!==window.localStorage&&\"object\"===typeof window.localStorage&&\"function\"===typeof window.localStorage.getItem&&null!==window.sessionStorage&&\"object\"===typeof window.sessionStorage&&\"function\"===typeof window.sessionStorage.getItem&&(c=window.sessionStorage.getItem(\"jts_preview_version\")||window.localStorage.getItem(\"jts_preview_version\")||c);window.jentis=window.jentis||{};window.jentis.config=window.jentis.config||{};window.jentis.config.frontend=\n",
       "window.jentis.config.frontend||{};window.jentis.config.frontend.cdnhost=a+\"/get/\"+e+\"/web/\"+c+\"/\";window.jentis.config.frontend.vers=c;window.jentis.config.frontend.env=e;window.jentis.config.frontend.project=b;window._jts=window._jts||[];a=document.getElementsByTagName(\"script\")[0];b=document.createElement(\"script\");b.async=!0;b.src=window.jentis.config.frontend.cdnhost+\"lrnojf.js\";b.onload=function(){try{__uspapi(\"getUSPData\",1,function(d,f){console.log(\"[JTS] check usp api\",d,f);var g=\"DNS\";try{f&&\n",
       "d&&(g=parseConsent(d.uspString))}catch(h){console.log(\"[JTS] uspData retrieve failed\")}activation(g)})}catch(d){window.__tcfapi?console.log(\"[JTS] Consent mgmt delegated to OneTrust\"):activation(google_tag_manager[\"rm\"][\"11017726\"](13))}_jts.push({track:\"pageview\"});_jts.push({track:\"submit\"})};a.parentNode.insertBefore(b,a)};\n",
       "if(window.__tcfapi){var callback2=function(a,b){b&&\"tcloaded\"===a.eventStatus||\"useractioncomplete\"===a.eventStatus?(turnOnJentis(\"https://ny77jj.washingtonpost.com\",\"washingtonpost-com\",\"live\",\"_\"),__tcfapi(\"removeEventListener\",2,function(e){},a.listenerId)):console.log(\"[JTS] TC Data request has failed\")};__tcfapi(\"addEventListener\",2,callback2)}else turnOnJentis(\"https://ny77jj.washingtonpost.com\",\"washingtonpost-com\",\"live\",\"_\");</script><script id=\"\" type=\"text/javascript\">(function(){var b=window.dataLayer||[],a=Math.floor(100*Math.random())+1;b.push({sampleThreshold:a});window&&!window.analytics_sampleThreshold&&(window.analytics_sampleThreshold=a)})();</script>\n",
       "<script id=\"\" type=\"text/javascript\">(function(){for(var f=window.dataLayer||[],b=document.cookie.split(\";\"),e=[],a=0;a<b.length;a++)if(b[a]&&(-1<b[a].indexOf(\"wp_ak_\")||-1<b[a].indexOf(\"wp_gdpr\")||-1<b[a].indexOf(\"wp_proactive-signin\")||-1<b[a].indexOf(\"wp_idexp\")||-1<b[a].indexOf(\"wp_compact_mode_optin\")||-1<b[a].indexOf(\"wp_s\")||-1<b[a].indexOf(\"akaas_\")))if(-1<b[a].indexOf(\"akaas_\")){var c=b[a].split(\"\\x3d\"),d=c[0];c=c[c.length-1];e.push((d+\":\"+c).trim())}else d=b[a].split(\"\\x3d\"),2===d.length&&e.push((d[0]+\":\"+d[1]).trim());f.push({wapoCookies:e.join(\";\")})})();</script><script id=\"\" type=\"text/javascript\">var _comscore=window._comscore||[],payload={c1:2,c2:3005617},v=document.cookie.match(\"(^|;) ?wp_usp\\x3d([^;]*)(;|$)\")||[];v&&v[2]&&\"1YYY\"===v[2]&&(payload.cs_ucfr=0);_comscore.push(payload);(function(){var a=document.createElement(\"script\"),b=document.getElementsByTagName(\"script\")[0];a.async=!0;a.src=(\"https:\"==document.location.protocol?\"https://sb\":\"http://b\")+\".scorecardresearch.com/beacon.js\";b.parentNode.insertBefore(a,b)})();</script><iframe src=\"https://5fc961d35e6c8d47c9375936c8aac29f.safeframe.googlesyndication.com/safeframe/1-0-40/html/container.html\" style=\"visibility: hidden; display: none;\"></iframe><div><iframe height=\"0\" src=\"https://google-bidout-d.openx.net/w/1.0/pd?plm=5\" style=\"display:none;\" width=\"0\"></iframe></div><iframe id=\"google_ads_top_frame\" name=\"google_ads_top_frame\" style=\"display: none; position: fixed; left: -999px; top: -999px; width: 0px; height: 0px;\"></iframe><div class=\"kxhead oDxItEkI51DH\" data-id=\"IbWIJ0xh\"><span class=\"kxtag kxinvisible\" data-id=\"22047\"><script>\n",
       "(function () {\n",
       "    function getCookie(c_name) {\n",
       "        var c_value = document.cookie;\n",
       "        var c_start = c_value.indexOf(c_name + \"=\");\n",
       "        if (c_start == -1) {\n",
       "            c_start = c_value.indexOf(c_name + \"=\");\n",
       "        }\n",
       "        if (c_start == -1) {\n",
       "            c_value = null;\n",
       "        } else {\n",
       "            c_start = c_value.indexOf(\"=\", c_start) + 1;\n",
       "            var c_end = c_value.indexOf(\";\", c_start);\n",
       "            if (c_end == -1) {\n",
       "                c_end = c_value.length;\n",
       "            }\n",
       "            c_value = unescape(c_value.substring(c_start, c_end));\n",
       "        }\n",
       "        return c_value;\n",
       "    }\n",
       "\n",
       "    var wpatc = getCookie(\"WPATC\");\n",
       "    if (wpatc != null && wpatc != \"\") {\n",
       "        var n = wpatc.split(\":\");\n",
       "        for (i = 0; i < n.length; i++) {\n",
       "            // get attribute pairs\n",
       "            var attribute = n[i].toUpperCase();\n",
       "            var split_value = attribute.split(\"=\");\n",
       "\n",
       "            switch (split_value[0]) {\n",
       "                case \"A\":\n",
       "                    // set attribute of A\n",
       "                    var value = split_value[1];\n",
       "                    Krux('set', {\n",
       "                        'user_attr_A': value\n",
       "                    });\n",
       "                    break;\n",
       "                case \"B\":\n",
       "                    // set attribute of B AND KEEP reading\n",
       "                    var value = split_value[1];\n",
       "                    if (value < 25) {\n",
       "                        Krux('set', {\n",
       "                            'user_attr_B_Job': value\n",
       "                        });\n",
       "                    } else if (value >= 25 && value <= 59) {\n",
       "                        Krux('set', {\n",
       "                            'user_attr_B_Responsibility': value\n",
       "                        });\n",
       "                    } else if (value >= 60 && value <= 99) {\n",
       "                        Krux('set', {\n",
       "                            'user_attr_B_Industry': value\n",
       "                        });\n",
       "                    } else if (value >= 100 && value <= 110) {\n",
       "                        Krux('set', {\n",
       "                            'user_attr_B_Size': value\n",
       "                        });\n",
       "                    }\n",
       "                   case \"D\":\n",
       "                    value = split_value[1];\n",
       "                    if (value >= 1 && value <= 5) {\n",
       "                    Krux('set', {\n",
       "                        'user_attr_D': value\n",
       "                    });\n",
       "                    break;\n",
       "                    }\n",
       "            }\n",
       "        }\n",
       "    }\n",
       "})();\n",
       "</script></span><span class=\"kxtag kxinvisible\" data-id=\"22035\"><script>\n",
       "// this tag is intentionally blank\n",
       "</script></span><span class=\"kxtag kxinvisible\" data-id=\"22036\"></span><span class=\"kxtag kxinvisible\" data-id=\"22037\"><script>\n",
       "\n",
       "var store =  Krux('require:store');\n",
       "var local = store.local;\n",
       "var cookie = store.cookie;\n",
       "\n",
       "// Using Meta keywords to produce page attribute keywords\n",
       "Krux('scrape', { \"page_attr_keywords\": {meta_name: \"keywords\"}});\n",
       "// Using Omniture prop34 to produce page attribute omniture_prop34\n",
       "Krux('set', 'page_attr_omniture_prop34', typeof window.s =='object' && window.s['prop34']);\n",
       "// Using Globals wp_section to produce page attribute wp_section\n",
       "Krux('scrape', { \"page_attr_wp_section\": {js_global: \"wp_section\"}});\n",
       "// Using Globals wp_subsection to produce page attribute wp_subsection\n",
       "Krux('scrape', { \"page_attr_wp_subsection\": {js_global: \"wp_subsection\"}});\n",
       "// Using Globals wp_content_category to produce page attribute wp_content_category\n",
       "Krux('scrape', { \"page_attr_wp_content_category\": {js_global: \"wp_content_category\"}});\n",
       "// Using Globals wp_meta_data.wt to produce page attribute wp_meta_data.wt\n",
       "Krux('scrape', { \"page_attr_wp_meta_data.wt\": {js_global: \"wp_meta_data.wt\"}});\n",
       "// Using Cookie rplm to produce page attribute cookie_rplm\n",
       "Krux('scrape', { \"page_attr_cookie_de\": {cookie: \"de\"}});\n",
       "// Using Globals wp_blogname to produce page attribute wp_blogname\n",
       "Krux('scrape', { \"page_attr_wp_blogname\": {js_global: \"wp_blogname\"}});\n",
       "// Using Globals wp_author to produce page attribute wp_author\n",
       "Krux('scrape', { \"page_attr_wp_author\": {js_global: \"wp_author\"}});\n",
       "Krux('scrape', { \"page_attr_wp_pvid\": {js_global: \"wp_pvid\"}});\n",
       "\n",
       "\n",
       "// Set section/subsection\n",
       "  Krux('set', {\n",
       "    section: Krux('get', 'page_attr_wp_section'),\n",
       "    subsection: Krux('get', 'page_attr_wp_subsection')\n",
       "  });\n",
       "\n",
       "// Using Omniture eVar62 to produce user attribute omniture_evar62\n",
       "Krux('set', 'user_attr_omniture_evar62', typeof window.s =='object' && window.s['eVar62']);\n",
       "\n",
       "// Set user attribute for subscriber type\n",
       "(function() {\n",
       "    if (window.s && window.s['prop65'] && window.s.prop65 !== 'none') {\n",
       "        var subType = window.s.prop65.replace(/[0-9]/g,'').split(',');\n",
       "        Krux('set','user_attr_sub_types', (subType.filter(function(e) { return e !== ''})));\n",
       "    }\n",
       "})();\n",
       "\n",
       "// Set Topics\n",
       "(function() {\n",
       "  if (window.wp_meta_data && window.wp_meta_data.clavis) {\n",
       "    var topics = []; \n",
       "    var i;\n",
       "    for(i = 0; i < wp_meta_data.clavis.topics.length; i++) {\n",
       "        topics[i] = wp_meta_data.clavis.topics[i].replace(/,/g,'');\n",
       "    }\n",
       "     \n",
       "    if (topics !=null && topics != \"\")  {\n",
       "    Krux('set', {'page_attr_topics': topics });\n",
       "    }\n",
       "  }\n",
       "})();\n",
       "  \n",
       " \n",
       "// Set Topics\n",
       "(function() {\n",
       "  if (window.wp_meta_data && window.wpAdFusion.clavis) {\n",
       "    var topics = []; \n",
       "    var i;\n",
       "    for(i = 0; i < wpAdFusion.clavis.topics.length; i++) {\n",
       "        topics[i] = wpAdFusion.clavis.topics[i].replace(/,/g,'');\n",
       "    }\n",
       "     \n",
       "    if (topics !=null && topics != \"\")  {\n",
       "    Krux('set', {'page_attr_topics': topics });\n",
       "    }\n",
       "  }\n",
       "})();\n",
       "  \n",
       "\n",
       "// Set array of auxiliary values into context & keywords attr auxiliaries\n",
       "// 20141211 author mfisher\n",
       "(function() {\n",
       "\n",
       "    if (window.wp_meta_data && typeof window.wp_meta_data.clavis != 'undefined' && typeof window.wp_meta_data.clavis.auxiliary_names != 'undefined') {\n",
       "\n",
       "        var aux = [];\n",
       "        var q;\n",
       "\n",
       "        for (q = 0; q < wp_meta_data.clavis.auxiliary_names.length; q++) {\n",
       "            aux[q] = wp_meta_data.clavis.auxiliary_names[q].replace(/,/g, '');\n",
       "        }\n",
       "    }\n",
       "    if (aux != null && aux != \"\") {\n",
       "        Krux('set', {\n",
       "            'page_attr_aux': aux\n",
       "        });\n",
       "    }\n",
       "})();\n",
       "\n",
       "\n",
       "//Pull paywall info \n",
       "// 2014 11 17 coluzzi check TWP object (was throwing errors on page) \n",
       "// 2020 01 17 Added try catch statement to the below code to catch errors\n",
       "try {\n",
       "if (typeof TWP != 'undefined') {\n",
       "    (function () {\n",
       "       if (typeof TWP.Identity != 'undefined') {\n",
       "            if (TWP.Identity.paywall && TWP.Identity.paywall.pwresp) {\n",
       "                var mtfn = TWP.Identity.paywall.pwresp.mtfn;\n",
       "                var sub = TWP.Identity.paywall.pwresp.sub;\n",
       "                var mtr = TWP.Identity.paywall.pwresp.mtr;\n",
       "\n",
       "                if (mtfn != null) {\n",
       "                    Krux('set', {\n",
       "                      'page_attr_mtfn': mtfn\n",
       "                 });\n",
       "              }\n",
       "                if (sub != null) {\n",
       "                  Krux('set', {\n",
       "                       'page_attr_sub': sub\n",
       "                   });\n",
       "              }\n",
       "             if (mtr != null) {\n",
       "                   Krux('set', {\n",
       "                      'page_attr_mtr': mtr\n",
       "                   });\n",
       "               }\n",
       "            }   \n",
       "        }\n",
       "    })();\n",
       "}\n",
       "}catch(e){}\n",
       "  \n",
       "// INI-996: Audiences attribute\n",
       "(function(){\n",
       "    var map = {\n",
       "        '0668': 'Inactive',\n",
       "        '7204': 'Active: Low Interest',\n",
       "        '0862': 'Active: Medium Interest',\n",
       "        '2467': 'Active: High Interest',\n",
       "        '6136': 'Center',\n",
       "        '8936': 'Left',\n",
       "        '9868': 'Right',\n",
       "        '6362': 'Morning Mix',\n",
       "        '3552': 'Travel',\n",
       "        '3433': 'Afternoon Buzz',  \n",
       "        '7543': 'GOG',  \n",
       "        '202':  'Daily', \n",
       "        '8636': 'Daily',   \n",
       "        '5723': 'Wonkbook',  \n",
       "        '2748': 'Five Minute Fix',   \n",
       "        '3522': 'Politics',  \n",
       "        '5263': 'Opinions' \n",
       "    },\n",
       "    data = {};\n",
       "\n",
       "    data['page_attr_Audiences'] = [];\n",
       "\n",
       "    try{ //check for cookies turned off in Chrome - SPT 11248\n",
       "        if( window.localStorage && window.localStorage.getItem ) {\n",
       "            var lcl = window.localStorage;\n",
       "            for( var key in map )\n",
       "                if( lcl.getItem( key ) == '1' )\n",
       "                    data['page_attr_Audiences'].push( map[key]  );\n",
       "\n",
       "            data['page_attr_targeting_aux_map'] = lcl.getItem( 'targeting_aux_map' );\n",
       "        } else if( window.utils && window.utils.getCookie ) {\n",
       "            var utl = window.utils;\n",
       "            for( var key in map )\n",
       "                if( utl.getCookie( key ) )\n",
       "                    data['page_attr_Audiences'].push( map[key]  );\n",
       "\n",
       "            data['page_attr_targeting_aux_map'] = utl.getCookie( 'targeting_aux_map' );\n",
       "        }\n",
       "    }catch(e){}\n",
       "\n",
       "    Krux( 'set', data );\n",
       "})();\n",
       "</script></span><span class=\"kxtag kxinvisible\" data-id=\"22045\"><script>\n",
       "// Using Globals commercialNode to produce page attribute commercialnode\n",
       "Krux('scrape', { \"page_attr_commercialnode\": {js_global: \"commercialNode\"}});\n",
       "\n",
       "try {\n",
       "  if (typeof TWP != 'undefined') {\n",
       "    (function() {\n",
       "      if (TWP && TWP.Identity && TWP.Identity.paywall && TWP.Identity.paywall.pwresp) {\n",
       "        var mtrct = TWP.Identity.paywall.pwresp.mtrct;\n",
       "        if (mtrct !=null)  {\n",
       "          Krux('set', {'page_attr_mtrct': mtrct });\n",
       "        }\n",
       "      }\n",
       "    })();\n",
       "  }\n",
       "}catch(e){}\n",
       "</script></span><span class=\"kxtag kxinvisible\" data-id=\"22046\"><script type=\"text/javascript\">Krux('social.init');</script></span><span class=\"kxtag kxinvisible\" data-id=\"22053\"><script>\n",
       "(function(){\n",
       "\tvar prefix = location.protocol == 'https:' ? \"https:\" : \"http:\";\n",
       "\tvar restUrl = '//tag.researchnow.com/t/beacon?pr=4821&ca=WP&pl=SITE&si=WP&adn=3&tt=3';\n",
       "\tvar completeUrl = prefix + restUrl;\n",
       "\tvar image = new Image();\n",
       "\timage.src= completeUrl;\n",
       "})();\n",
       "</script></span><span class=\"kxtag kxinvisible\" data-id=\"22089\"><script>\n",
       "(function () {\n",
       "  var wapoCookie = Krux('scrape.cookie', 's_vi');\n",
       "  if(wapoCookie){ // Addd for SPT-11248\n",
       "    var wapoId = wapoCookie.match(/\\|(.*)\\[/)[1];\n",
       "    Krux ('set', 'user_attr_wapo', wapoId);\n",
       "  }\n",
       "})();\n",
       "</script></span></div><iframe height=\"0\" src=\"https://www.google.com/recaptcha/api2/aframe\" style=\"display: none;\" width=\"0\"></iframe></body><iframe aria-hidden=\"true\" class=\"i6zCYw6cT99A\" frameborder=\"0\" height=\"0\" id=\"kx-proxy-IbWIJ0xh\" src=\"https://cdn.krxd.net/partnerjs/xdi/proxy.3d2100fd7107262ecb55ce6847f01fa5.html#!kxcid=IbWIJ0xh&amp;kxt=https%3A%2F%2Fwww.washingtonpost.com&amp;kxcl=cdn&amp;kxp=\" tabindex=\"-1\" title=\"empty\" width=\"0\"></iframe></html>"
      ]
     },
     "execution_count": 52,
     "metadata": {},
     "output_type": "execute_result"
    }
   ],
   "source": [
    "soup"
   ]
  },
  {
   "cell_type": "code",
   "execution_count": 57,
   "id": "8a0430ab",
   "metadata": {},
   "outputs": [
    {
     "name": "stdout",
     "output_type": "stream",
     "text": [
      "https://www.washingtonpost.com/pb/resources/img/thewashingtonpost-white-2x.png\n"
     ]
    },
    {
     "data": {
      "text/html": [
       "<img src=\"https://www.washingtonpost.com/pb/resources/img/thewashingtonpost-white-2x.png\"/>"
      ],
      "text/plain": [
       "<IPython.core.display.Image object>"
      ]
     },
     "metadata": {},
     "output_type": "display_data"
    },
    {
     "name": "stdout",
     "output_type": "stream",
     "text": [
      "None\n",
      "img/topper.jpg\n"
     ]
    },
    {
     "data": {
      "text/html": [
       "<img src=\"https://www.washingtonpost.com/graphics/2020/politics/trump-coronavirus-statements/img/topper.jpg\"/>"
      ],
      "text/plain": [
       "<IPython.core.display.Image object>"
      ]
     },
     "metadata": {},
     "output_type": "display_data"
    },
    {
     "name": "stdout",
     "output_type": "stream",
     "text": [
      "img/200/68d4c334-4d42-4b1d-995a-7c66701f1d77.png\n"
     ]
    },
    {
     "data": {
      "text/html": [
       "<img src=\"https://www.washingtonpost.com/graphics/2020/politics/trump-coronavirus-statements/img/200/68d4c334-4d42-4b1d-995a-7c66701f1d77.png\"/>"
      ],
      "text/plain": [
       "<IPython.core.display.Image object>"
      ]
     },
     "metadata": {},
     "output_type": "display_data"
    },
    {
     "name": "stdout",
     "output_type": "stream",
     "text": [
      "img/200/0ba351d2-7642-43d5-9dc1-1b040f5d92ff.png\n"
     ]
    },
    {
     "data": {
      "text/html": [
       "<img src=\"https://www.washingtonpost.com/graphics/2020/politics/trump-coronavirus-statements/img/200/0ba351d2-7642-43d5-9dc1-1b040f5d92ff.png\"/>"
      ],
      "text/plain": [
       "<IPython.core.display.Image object>"
      ]
     },
     "metadata": {},
     "output_type": "display_data"
    },
    {
     "name": "stdout",
     "output_type": "stream",
     "text": [
      "img/photos/section-1.jpg\n"
     ]
    },
    {
     "data": {
      "text/html": [
       "<img src=\"https://www.washingtonpost.com/graphics/2020/politics/trump-coronavirus-statements/img/photos/section-1.jpg\"/>"
      ],
      "text/plain": [
       "<IPython.core.display.Image object>"
      ]
     },
     "metadata": {},
     "output_type": "display_data"
    },
    {
     "name": "stdout",
     "output_type": "stream",
     "text": [
      "img/viz/feb_24_market-sparkline.png\n"
     ]
    },
    {
     "data": {
      "text/html": [
       "<img src=\"https://www.washingtonpost.com/graphics/2020/politics/trump-coronavirus-statements/img/viz/feb_24_market-sparkline.png\"/>"
      ],
      "text/plain": [
       "<IPython.core.display.Image object>"
      ]
     },
     "metadata": {},
     "output_type": "display_data"
    },
    {
     "name": "stdout",
     "output_type": "stream",
     "text": [
      "img/photos/section-2.jpg\n"
     ]
    },
    {
     "data": {
      "text/html": [
       "<img src=\"https://www.washingtonpost.com/graphics/2020/politics/trump-coronavirus-statements/img/photos/section-2.jpg\"/>"
      ],
      "text/plain": [
       "<IPython.core.display.Image object>"
      ]
     },
     "metadata": {},
     "output_type": "display_data"
    },
    {
     "name": "stdout",
     "output_type": "stream",
     "text": [
      "img/viz/mar_9_market-sparkline.png\n"
     ]
    },
    {
     "data": {
      "text/html": [
       "<img src=\"https://www.washingtonpost.com/graphics/2020/politics/trump-coronavirus-statements/img/viz/mar_9_market-sparkline.png\"/>"
      ],
      "text/plain": [
       "<IPython.core.display.Image object>"
      ]
     },
     "metadata": {},
     "output_type": "display_data"
    },
    {
     "name": "stdout",
     "output_type": "stream",
     "text": [
      "img/photos/section-3.jpg\n"
     ]
    },
    {
     "data": {
      "text/html": [
       "<img src=\"https://www.washingtonpost.com/graphics/2020/politics/trump-coronavirus-statements/img/photos/section-3.jpg\"/>"
      ],
      "text/plain": [
       "<IPython.core.display.Image object>"
      ]
     },
     "metadata": {},
     "output_type": "display_data"
    },
    {
     "name": "stdout",
     "output_type": "stream",
     "text": [
      "img/viz/mar_18_market-sparkline.png\n"
     ]
    },
    {
     "data": {
      "text/html": [
       "<img src=\"https://www.washingtonpost.com/graphics/2020/politics/trump-coronavirus-statements/img/viz/mar_18_market-sparkline.png\"/>"
      ],
      "text/plain": [
       "<IPython.core.display.Image object>"
      ]
     },
     "metadata": {},
     "output_type": "display_data"
    },
    {
     "name": "stdout",
     "output_type": "stream",
     "text": [
      "img/photos/section-4.jpg\n"
     ]
    },
    {
     "data": {
      "text/html": [
       "<img src=\"https://www.washingtonpost.com/graphics/2020/politics/trump-coronavirus-statements/img/photos/section-4.jpg\"/>"
      ],
      "text/plain": [
       "<IPython.core.display.Image object>"
      ]
     },
     "metadata": {},
     "output_type": "display_data"
    },
    {
     "name": "stdout",
     "output_type": "stream",
     "text": [
      "img/viz/mar_23_market-sparkline.png\n"
     ]
    },
    {
     "data": {
      "text/html": [
       "<img src=\"https://www.washingtonpost.com/graphics/2020/politics/trump-coronavirus-statements/img/viz/mar_23_market-sparkline.png\"/>"
      ],
      "text/plain": [
       "<IPython.core.display.Image object>"
      ]
     },
     "metadata": {},
     "output_type": "display_data"
    },
    {
     "name": "stdout",
     "output_type": "stream",
     "text": [
      "img/photos/section-5.jpg\n"
     ]
    },
    {
     "data": {
      "text/html": [
       "<img src=\"https://www.washingtonpost.com/graphics/2020/politics/trump-coronavirus-statements/img/photos/section-5.jpg\"/>"
      ],
      "text/plain": [
       "<IPython.core.display.Image object>"
      ]
     },
     "metadata": {},
     "output_type": "display_data"
    },
    {
     "name": "stdout",
     "output_type": "stream",
     "text": [
      "img/viz/mar_27_market-sparkline.png\n"
     ]
    },
    {
     "data": {
      "text/html": [
       "<img src=\"https://www.washingtonpost.com/graphics/2020/politics/trump-coronavirus-statements/img/viz/mar_27_market-sparkline.png\"/>"
      ],
      "text/plain": [
       "<IPython.core.display.Image object>"
      ]
     },
     "metadata": {},
     "output_type": "display_data"
    },
    {
     "name": "stdout",
     "output_type": "stream",
     "text": [
      "img/200/0ba351d2-7642-43d5-9dc1-1b040f5d92ff.png\n"
     ]
    },
    {
     "data": {
      "text/html": [
       "<img src=\"https://www.washingtonpost.com/graphics/2020/politics/trump-coronavirus-statements/img/200/0ba351d2-7642-43d5-9dc1-1b040f5d92ff.png\"/>"
      ],
      "text/plain": [
       "<IPython.core.display.Image object>"
      ]
     },
     "metadata": {},
     "output_type": "display_data"
    },
    {
     "name": "stdout",
     "output_type": "stream",
     "text": [
      "img/200/68d4c334-4d42-4b1d-995a-7c66701f1d77.png\n"
     ]
    },
    {
     "data": {
      "text/html": [
       "<img src=\"https://www.washingtonpost.com/graphics/2020/politics/trump-coronavirus-statements/img/200/68d4c334-4d42-4b1d-995a-7c66701f1d77.png\"/>"
      ],
      "text/plain": [
       "<IPython.core.display.Image object>"
      ]
     },
     "metadata": {},
     "output_type": "display_data"
    },
    {
     "name": "stdout",
     "output_type": "stream",
     "text": [
      "https://www.washingtonpost.com/resizer/ZP8LYU-5H-pq2ocspyx_XL3s2QA=/1200x630/filters:focal(759x427:1541x867):quality(100)/arc-anglerfish-washpost-prod-washpost/XQB62S46VJFZXP5FDFNABMPDEQ.jpg?c=5bb2f1c2d744a616473a8b543dba4ae8d5d385a7-1586371551\n"
     ]
    },
    {
     "data": {
      "text/html": [
       "<img src=\"https://www.washingtonpost.com/resizer/ZP8LYU-5H-pq2ocspyx_XL3s2QA=/1200x630/filters:focal(759x427:1541x867):quality(100)/arc-anglerfish-washpost-prod-washpost/XQB62S46VJFZXP5FDFNABMPDEQ.jpg?c=5bb2f1c2d744a616473a8b543dba4ae8d5d385a7-1586371551\"/>"
      ],
      "text/plain": [
       "<IPython.core.display.Image object>"
      ]
     },
     "metadata": {},
     "output_type": "display_data"
    },
    {
     "name": "stdout",
     "output_type": "stream",
     "text": [
      "https://www.washingtonpost.com/resizer/ZP8LYU-5H-pq2ocspyx_XL3s2QA=/1200x630/filters:focal(759x427:1541x867):quality(100)/arc-anglerfish-washpost-prod-washpost/XQB62S46VJFZXP5FDFNABMPDEQ.jpg?c=5bb2f1c2d744a616473a8b543dba4ae8d5d385a7-1586371551\n"
     ]
    },
    {
     "data": {
      "text/html": [
       "<img src=\"https://www.washingtonpost.com/resizer/ZP8LYU-5H-pq2ocspyx_XL3s2QA=/1200x630/filters:focal(759x427:1541x867):quality(100)/arc-anglerfish-washpost-prod-washpost/XQB62S46VJFZXP5FDFNABMPDEQ.jpg?c=5bb2f1c2d744a616473a8b543dba4ae8d5d385a7-1586371551\"/>"
      ],
      "text/plain": [
       "<IPython.core.display.Image object>"
      ]
     },
     "metadata": {},
     "output_type": "display_data"
    },
    {
     "name": "stdout",
     "output_type": "stream",
     "text": [
      "https://www.washingtonpost.com/resizer/6pVy0hFdcJAE9yRg-jKGL7xzcbQ=/1200x900/filters:focal(759x506:1541x1026):quality(100)/arc-anglerfish-washpost-prod-washpost/J33CPAGXYREHXP7BBCQDJHBWVY.jpg?c=5bb2f1c2d744a616473a8b543dba4ae8d5d385a7-1586371551\n"
     ]
    },
    {
     "data": {
      "text/html": [
       "<img src=\"https://www.washingtonpost.com/resizer/6pVy0hFdcJAE9yRg-jKGL7xzcbQ=/1200x900/filters:focal(759x506:1541x1026):quality(100)/arc-anglerfish-washpost-prod-washpost/J33CPAGXYREHXP7BBCQDJHBWVY.jpg?c=5bb2f1c2d744a616473a8b543dba4ae8d5d385a7-1586371551\"/>"
      ],
      "text/plain": [
       "<IPython.core.display.Image object>"
      ]
     },
     "metadata": {},
     "output_type": "display_data"
    },
    {
     "name": "stdout",
     "output_type": "stream",
     "text": [
      "https://www.washingtonpost.com/resizer/6pVy0hFdcJAE9yRg-jKGL7xzcbQ=/1200x900/filters:focal(759x506:1541x1026):quality(100)/arc-anglerfish-washpost-prod-washpost/J33CPAGXYREHXP7BBCQDJHBWVY.jpg?c=5bb2f1c2d744a616473a8b543dba4ae8d5d385a7-1586371551\n"
     ]
    },
    {
     "data": {
      "text/html": [
       "<img src=\"https://www.washingtonpost.com/resizer/6pVy0hFdcJAE9yRg-jKGL7xzcbQ=/1200x900/filters:focal(759x506:1541x1026):quality(100)/arc-anglerfish-washpost-prod-washpost/J33CPAGXYREHXP7BBCQDJHBWVY.jpg?c=5bb2f1c2d744a616473a8b543dba4ae8d5d385a7-1586371551\"/>"
      ],
      "text/plain": [
       "<IPython.core.display.Image object>"
      ]
     },
     "metadata": {},
     "output_type": "display_data"
    },
    {
     "name": "stdout",
     "output_type": "stream",
     "text": [
      "https://www.washingtonpost.com/resizer/fe3Pa2u89xdCfz_5TC41EasFyB8=/arc-anglerfish-washpost-prod-washpost/J76HXJYJVVAV7CIRKG6TEOS22Q.jpg?c=5bb2f1c2d744a616473a8b543dba4ae8d5d385a7-1586371551\n"
     ]
    },
    {
     "data": {
      "text/html": [
       "<img src=\"https://www.washingtonpost.com/resizer/fe3Pa2u89xdCfz_5TC41EasFyB8=/arc-anglerfish-washpost-prod-washpost/J76HXJYJVVAV7CIRKG6TEOS22Q.jpg?c=5bb2f1c2d744a616473a8b543dba4ae8d5d385a7-1586371551\"/>"
      ],
      "text/plain": [
       "<IPython.core.display.Image object>"
      ]
     },
     "metadata": {},
     "output_type": "display_data"
    },
    {
     "name": "stdout",
     "output_type": "stream",
     "text": [
      "https://www.washingtonpost.com/resizer/fe3Pa2u89xdCfz_5TC41EasFyB8=/arc-anglerfish-washpost-prod-washpost/J76HXJYJVVAV7CIRKG6TEOS22Q.jpg?c=5bb2f1c2d744a616473a8b543dba4ae8d5d385a7-1586371551\n"
     ]
    },
    {
     "data": {
      "text/html": [
       "<img src=\"https://www.washingtonpost.com/resizer/fe3Pa2u89xdCfz_5TC41EasFyB8=/arc-anglerfish-washpost-prod-washpost/J76HXJYJVVAV7CIRKG6TEOS22Q.jpg?c=5bb2f1c2d744a616473a8b543dba4ae8d5d385a7-1586371551\"/>"
      ],
      "text/plain": [
       "<IPython.core.display.Image object>"
      ]
     },
     "metadata": {},
     "output_type": "display_data"
    },
    {
     "name": "stdout",
     "output_type": "stream",
     "text": [
      "https://www.washingtonpost.com/resizer/KcbOYFP3Zl2HEpSYKLUgnyg7N9Q=/0x0/filters:focal(0x0:0x0):quality(100)/arc-anglerfish-washpost-prod-washpost/public/SFCYC25HNBGGLBHIKON7OKB26Q.jpg?c=5bb2f1c2d744a616473a8b543dba4ae8d5d385a7-1586371551\n"
     ]
    },
    {
     "data": {
      "text/html": [
       "<img src=\"https://www.washingtonpost.com/resizer/KcbOYFP3Zl2HEpSYKLUgnyg7N9Q=/0x0/filters:focal(0x0:0x0):quality(100)/arc-anglerfish-washpost-prod-washpost/public/SFCYC25HNBGGLBHIKON7OKB26Q.jpg?c=5bb2f1c2d744a616473a8b543dba4ae8d5d385a7-1586371551\"/>"
      ],
      "text/plain": [
       "<IPython.core.display.Image object>"
      ]
     },
     "metadata": {},
     "output_type": "display_data"
    },
    {
     "name": "stdout",
     "output_type": "stream",
     "text": [
      "https://www.washingtonpost.com/resizer/KcbOYFP3Zl2HEpSYKLUgnyg7N9Q=/0x0/filters:focal(0x0:0x0):quality(100)/arc-anglerfish-washpost-prod-washpost/public/SFCYC25HNBGGLBHIKON7OKB26Q.jpg?c=5bb2f1c2d744a616473a8b543dba4ae8d5d385a7-1586371551\n"
     ]
    },
    {
     "data": {
      "text/html": [
       "<img src=\"https://www.washingtonpost.com/resizer/KcbOYFP3Zl2HEpSYKLUgnyg7N9Q=/0x0/filters:focal(0x0:0x0):quality(100)/arc-anglerfish-washpost-prod-washpost/public/SFCYC25HNBGGLBHIKON7OKB26Q.jpg?c=5bb2f1c2d744a616473a8b543dba4ae8d5d385a7-1586371551\"/>"
      ],
      "text/plain": [
       "<IPython.core.display.Image object>"
      ]
     },
     "metadata": {},
     "output_type": "display_data"
    },
    {
     "name": "stdout",
     "output_type": "stream",
     "text": [
      "https://img.washingtonpost.com/wp-apps/imrs.php?src=https://www.washingtonpost.com/wp-apps/imrs.php?src=https://arc-anglerfish-washpost-prod-washpost.s3.amazonaws.com/public/G63NAO35MKLAGSKMY5O5N42CCA.JPG&w=1200&w=60&h=60\n"
     ]
    },
    {
     "data": {
      "text/html": [
       "<img src=\"https://img.washingtonpost.com/wp-apps/imrs.php?src=https://www.washingtonpost.com/wp-apps/imrs.php?src=https://arc-anglerfish-washpost-prod-washpost.s3.amazonaws.com/public/G63NAO35MKLAGSKMY5O5N42CCA.JPG&w=1200&w=60&h=60\"/>"
      ],
      "text/plain": [
       "<IPython.core.display.Image object>"
      ]
     },
     "metadata": {},
     "output_type": "display_data"
    },
    {
     "name": "stdout",
     "output_type": "stream",
     "text": [
      "https://img.washingtonpost.com/wp-apps/imrs.php?src=https://www.washingtonpost.com/wp-apps/imrs.php?src=https://arc-anglerfish-washpost-prod-washpost.s3.amazonaws.com/public/ARRIZGCZANCMNMAVRPIRZPBUYM.jpg&w=1484&w=60&h=60\n"
     ]
    },
    {
     "data": {
      "text/html": [
       "<img src=\"https://img.washingtonpost.com/wp-apps/imrs.php?src=https://www.washingtonpost.com/wp-apps/imrs.php?src=https://arc-anglerfish-washpost-prod-washpost.s3.amazonaws.com/public/ARRIZGCZANCMNMAVRPIRZPBUYM.jpg&w=1484&w=60&h=60\"/>"
      ],
      "text/plain": [
       "<IPython.core.display.Image object>"
      ]
     },
     "metadata": {},
     "output_type": "display_data"
    },
    {
     "name": "stdout",
     "output_type": "stream",
     "text": [
      "https://img.washingtonpost.com/wp-apps/imrs.php?src=https://www.washingtonpost.com/wp-apps/imrs.php?src=https://arc-anglerfish-washpost-prod-washpost.s3.amazonaws.com/public/4I2PZWU72VAKHCX2GLI5Q6WTWY.jpg&w=1484&w=60&h=60\n"
     ]
    },
    {
     "data": {
      "text/html": [
       "<img src=\"https://img.washingtonpost.com/wp-apps/imrs.php?src=https://www.washingtonpost.com/wp-apps/imrs.php?src=https://arc-anglerfish-washpost-prod-washpost.s3.amazonaws.com/public/4I2PZWU72VAKHCX2GLI5Q6WTWY.jpg&w=1484&w=60&h=60\"/>"
      ],
      "text/plain": [
       "<IPython.core.display.Image object>"
      ]
     },
     "metadata": {},
     "output_type": "display_data"
    },
    {
     "name": "stdout",
     "output_type": "stream",
     "text": [
      "https://img.washingtonpost.com/wp-apps/imrs.php?src=https://www.washingtonpost.com/wp-apps/imrs.php?src=https://arc-anglerfish-washpost-prod-washpost.s3.amazonaws.com/public/APEHOUTA2YI6XILXO5S7FGUVEQ.jpg&w=1484&w=60&h=60\n"
     ]
    },
    {
     "data": {
      "text/html": [
       "<img src=\"https://img.washingtonpost.com/wp-apps/imrs.php?src=https://www.washingtonpost.com/wp-apps/imrs.php?src=https://arc-anglerfish-washpost-prod-washpost.s3.amazonaws.com/public/APEHOUTA2YI6XILXO5S7FGUVEQ.jpg&w=1484&w=60&h=60\"/>"
      ],
      "text/plain": [
       "<IPython.core.display.Image object>"
      ]
     },
     "metadata": {},
     "output_type": "display_data"
    },
    {
     "name": "stdout",
     "output_type": "stream",
     "text": [
      "https://img.washingtonpost.com/wp-apps/imrs.php?src=https://www.washingtonpost.com/wp-apps/imrs.php?src=https://arc-anglerfish-washpost-prod-washpost.s3.amazonaws.com/public/WX5LPGVZ7QI6VBFYV2UXJP3SVM.jpg&w=1200&w=60&h=60\n"
     ]
    },
    {
     "data": {
      "text/html": [
       "<img src=\"https://img.washingtonpost.com/wp-apps/imrs.php?src=https://www.washingtonpost.com/wp-apps/imrs.php?src=https://arc-anglerfish-washpost-prod-washpost.s3.amazonaws.com/public/WX5LPGVZ7QI6VBFYV2UXJP3SVM.jpg&w=1200&w=60&h=60\"/>"
      ],
      "text/plain": [
       "<IPython.core.display.Image object>"
      ]
     },
     "metadata": {},
     "output_type": "display_data"
    }
   ],
   "source": [
    "# Find all img elements within the article content\n",
    "img_elements = soup.find_all(\"img\")\n",
    "\n",
    "# Display the images inline in the notebook\n",
    "for img in img_elements:\n",
    "    img_src = img.get(\"src\")\n",
    "    print(img_src)\n",
    "    try:\n",
    "        if img_src[:4]=='http':\n",
    "            display(Image(url=img_src))\n",
    "        else:\n",
    "            absolute_img_src = urljoin(url, img_src)\n",
    "            display(Image(url=absolute_img_src))\n",
    "    except:\n",
    "            continue"
   ]
  },
  {
   "cell_type": "code",
   "execution_count": 25,
   "id": "c4a56d12",
   "metadata": {},
   "outputs": [
    {
     "data": {
      "text/plain": [
       "[<img alt=\"\" class=\"wpds-c-dgBqAZ\" src=\"https://www.washingtonpost.com/wp-apps/imrs.php?src=https://s3.amazonaws.com/arc-authors/washpost/18aacda4-9270-4380-a185-cea1a5506d98.png&amp;w=196&amp;h=196\"/>]"
      ]
     },
     "execution_count": 25,
     "metadata": {},
     "output_type": "execute_result"
    }
   ],
   "source": [
    "img_elements"
   ]
  },
  {
   "cell_type": "code",
   "execution_count": 54,
   "id": "05a9b1f6",
   "metadata": {},
   "outputs": [],
   "source": [
    "from urllib.parse import urljoin"
   ]
  },
  {
   "cell_type": "code",
   "execution_count": null,
   "id": "70b7a1f2",
   "metadata": {},
   "outputs": [],
   "source": []
  }
 ],
 "metadata": {
  "kernelspec": {
   "display_name": "Python 3 (ipykernel)",
   "language": "python",
   "name": "python3"
  },
  "language_info": {
   "codemirror_mode": {
    "name": "ipython",
    "version": 3
   },
   "file_extension": ".py",
   "mimetype": "text/x-python",
   "name": "python",
   "nbconvert_exporter": "python",
   "pygments_lexer": "ipython3",
   "version": "3.8.0"
  }
 },
 "nbformat": 4,
 "nbformat_minor": 5
}
